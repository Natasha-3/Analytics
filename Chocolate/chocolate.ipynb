{
 "cells": [
  {
   "cell_type": "markdown",
   "metadata": {},
   "source": [
    "# Анализ шоколадных батончиков"
   ]
  },
  {
   "cell_type": "markdown",
   "metadata": {},
   "source": [
    "Оглавление\n",
    "1. [Введение](#introduction)\n",
    "2. [Предобработка](#preprocessing)\n",
    "3. [Анализ данных](#data-analysis)  \n",
    "  3.1 [Влияние компании и количества выпускаемых ею батончиков на рейтинг](#compnum-rating)    \n",
    "  3.2 [Влияние вида шоколада на рейтинг](#species-rating)   \n",
    "  3.3 [Регионы, где производят лучшие батончики. Влияние крупных стран-производителей на рейтинг](#comploc-rating)  \n",
    "  3.4 [Где растут лучшие какао-бобы. Влияние места произрастания бобов на рейтинг](#continent-rating)  \n",
    "  3.5 [Влияние сорта какао-бобов на рейтинг](#bean-rating)  \n",
    "  3.6 [Корреляция между процентным содержанием какао и рейтингом](#cocoa-rating-corr)  \n",
    "  3.7 [Связь года публикации обзора и других показателей](#year-corr)  \n",
    "  3.8 [Построение модели линейной регрессии](#model)  \n",
    "4. [Выводы](#conclusion)  "
   ]
  },
  {
   "cell_type": "markdown",
   "metadata": {},
   "source": [
    "## 1. Введение <a id=\"introduction\"></a> "
   ]
  },
  {
   "cell_type": "markdown",
   "metadata": {},
   "source": [
    "### Цель анализа  \n",
    "Цель этого проекта - определить, какие факторы делают шоколадные батончики высоко оцениваемыми и оказывают наибольшее влияние на их рейтинг.\n",
    "\n",
    "### Описание данных  \n",
    "Данные взяты из набора <a href=\"https://www.kaggle.com/datasets/rtatman/chocolate-bar-ratings\">Chocolate Bar Ratings</a>. Он содержит информацию о более 1700 отдельных шоколадных батончиков:\n",
    "* **company** - название компании.\n",
    "* **species** - вид шоколада.\n",
    "* **REF** - значение, связанное с временем внесения отзыва в базу данных.\n",
    "* **review_year** - год публикации обзора.\n",
    "* **cocoa_percentage** - процент содержания какао в батончике.\n",
    "* **company_location** - страна - производитель.\n",
    "* **rating** - рейтинг:  \n",
    "    * 5 - Elite (лучше чем обычно).    \n",
    "    * 4 - Premium (хорошо развитый вкус, присутствует характер и стиль).    \n",
    "    * 3 - от удовлитворительного (3.0 - Satisfactory) до хорошего, качественного (3.75 - Praiseworthy).    \n",
    "    * 2 - Disappointing (приемлемый, но содержит по крайней мере один существенный недостаток).   \n",
    "    * 1= Unpleasant (невкусный, несъедобный).    \n",
    "* **bean_type** - сорт какао-боба.\n",
    "* **country** - широкий географический регион происхождения какао-бобов. \n"
   ]
  },
  {
   "cell_type": "markdown",
   "metadata": {},
   "source": [
    "### План  \n",
    "1. Предобработка данных.\n",
    "2. Анализ влияния компании и количества выпускаемых ею батончиков на рейтинг.\n",
    "3. Оценка зависимости рейтинга от вида шоколада.\n",
    "4. Поиск регионов, где производят лучшие батончики. Анализ влияния крупных стран-производителей на рейтинг.\n",
    "5. Определение места, где растут лучшие какао-бобы. Влияние на рейтинг.  \n",
    "6. Влияние сорта какао-бобов на рейтинг.  \n",
    "7. Корреляция процента какао с рейтингом.\n",
    "8. Связь года публикации обзора с другими переменными.\n",
    "9. Построение модели линейной регрессии."
   ]
  },
  {
   "cell_type": "markdown",
   "metadata": {},
   "source": [
    "## 2. Предобработка <a id=\"preprocessing\"></a>"
   ]
  },
  {
   "cell_type": "markdown",
   "metadata": {},
   "source": [
    "Отобразим данные:"
   ]
  },
  {
   "cell_type": "code",
   "execution_count": 1,
   "metadata": {},
   "outputs": [],
   "source": [
    "import pandas as pd\n",
    "import numpy as np\n",
    "import re\n",
    "import matplotlib.pyplot as plt\n",
    "import seaborn as sns\n",
    "import scipy.stats as stats\n",
    "from sklearn.linear_model import LinearRegression"
   ]
  },
  {
   "cell_type": "code",
   "execution_count": 2,
   "metadata": {},
   "outputs": [
    {
     "ename": "FileNotFoundError",
     "evalue": "[Errno 2] No such file or directory: 'flavors_of_cacao.csv'",
     "output_type": "error",
     "traceback": [
      "\u001b[1;31m---------------------------------------------------------------------------\u001b[0m",
      "\u001b[1;31mFileNotFoundError\u001b[0m                         Traceback (most recent call last)",
      "Cell \u001b[1;32mIn[2], line 1\u001b[0m\n\u001b[1;32m----> 1\u001b[0m df \u001b[38;5;241m=\u001b[39m \u001b[43mpd\u001b[49m\u001b[38;5;241;43m.\u001b[39;49m\u001b[43mread_csv\u001b[49m\u001b[43m(\u001b[49m\u001b[38;5;124;43m\"\u001b[39;49m\u001b[38;5;124;43mflavors_of_cacao.csv\u001b[39;49m\u001b[38;5;124;43m\"\u001b[39;49m\u001b[43m)\u001b[49m\n\u001b[0;32m      2\u001b[0m columns \u001b[38;5;241m=\u001b[39m [\u001b[38;5;124m\"\u001b[39m\u001b[38;5;124mcompany\u001b[39m\u001b[38;5;124m\"\u001b[39m, \u001b[38;5;124m\"\u001b[39m\u001b[38;5;124mspecies\u001b[39m\u001b[38;5;124m\"\u001b[39m, \u001b[38;5;124m\"\u001b[39m\u001b[38;5;124mREF\u001b[39m\u001b[38;5;124m\"\u001b[39m, \u001b[38;5;124m\"\u001b[39m\u001b[38;5;124mreview_year\u001b[39m\u001b[38;5;124m\"\u001b[39m, \u001b[38;5;124m\"\u001b[39m\u001b[38;5;124mcocoa_percentage\u001b[39m\u001b[38;5;124m\"\u001b[39m, \u001b[38;5;124m\"\u001b[39m\u001b[38;5;124mcompany_location\u001b[39m\u001b[38;5;124m\"\u001b[39m, \u001b[38;5;124m\"\u001b[39m\u001b[38;5;124mrating\u001b[39m\u001b[38;5;124m\"\u001b[39m, \u001b[38;5;124m\"\u001b[39m\u001b[38;5;124mbean_type\u001b[39m\u001b[38;5;124m\"\u001b[39m, \u001b[38;5;124m\"\u001b[39m\u001b[38;5;124mcountry\u001b[39m\u001b[38;5;124m\"\u001b[39m]\n\u001b[0;32m      3\u001b[0m df\u001b[38;5;241m.\u001b[39mcolumns \u001b[38;5;241m=\u001b[39m columns\n",
      "File \u001b[1;32mc:\\Users\\Mfq\\AppData\\Local\\Programs\\Python\\Python313\\Lib\\site-packages\\pandas\\io\\parsers\\readers.py:1026\u001b[0m, in \u001b[0;36mread_csv\u001b[1;34m(filepath_or_buffer, sep, delimiter, header, names, index_col, usecols, dtype, engine, converters, true_values, false_values, skipinitialspace, skiprows, skipfooter, nrows, na_values, keep_default_na, na_filter, verbose, skip_blank_lines, parse_dates, infer_datetime_format, keep_date_col, date_parser, date_format, dayfirst, cache_dates, iterator, chunksize, compression, thousands, decimal, lineterminator, quotechar, quoting, doublequote, escapechar, comment, encoding, encoding_errors, dialect, on_bad_lines, delim_whitespace, low_memory, memory_map, float_precision, storage_options, dtype_backend)\u001b[0m\n\u001b[0;32m   1013\u001b[0m kwds_defaults \u001b[38;5;241m=\u001b[39m _refine_defaults_read(\n\u001b[0;32m   1014\u001b[0m     dialect,\n\u001b[0;32m   1015\u001b[0m     delimiter,\n\u001b[1;32m   (...)\u001b[0m\n\u001b[0;32m   1022\u001b[0m     dtype_backend\u001b[38;5;241m=\u001b[39mdtype_backend,\n\u001b[0;32m   1023\u001b[0m )\n\u001b[0;32m   1024\u001b[0m kwds\u001b[38;5;241m.\u001b[39mupdate(kwds_defaults)\n\u001b[1;32m-> 1026\u001b[0m \u001b[38;5;28;01mreturn\u001b[39;00m \u001b[43m_read\u001b[49m\u001b[43m(\u001b[49m\u001b[43mfilepath_or_buffer\u001b[49m\u001b[43m,\u001b[49m\u001b[43m \u001b[49m\u001b[43mkwds\u001b[49m\u001b[43m)\u001b[49m\n",
      "File \u001b[1;32mc:\\Users\\Mfq\\AppData\\Local\\Programs\\Python\\Python313\\Lib\\site-packages\\pandas\\io\\parsers\\readers.py:620\u001b[0m, in \u001b[0;36m_read\u001b[1;34m(filepath_or_buffer, kwds)\u001b[0m\n\u001b[0;32m    617\u001b[0m _validate_names(kwds\u001b[38;5;241m.\u001b[39mget(\u001b[38;5;124m\"\u001b[39m\u001b[38;5;124mnames\u001b[39m\u001b[38;5;124m\"\u001b[39m, \u001b[38;5;28;01mNone\u001b[39;00m))\n\u001b[0;32m    619\u001b[0m \u001b[38;5;66;03m# Create the parser.\u001b[39;00m\n\u001b[1;32m--> 620\u001b[0m parser \u001b[38;5;241m=\u001b[39m \u001b[43mTextFileReader\u001b[49m\u001b[43m(\u001b[49m\u001b[43mfilepath_or_buffer\u001b[49m\u001b[43m,\u001b[49m\u001b[43m \u001b[49m\u001b[38;5;241;43m*\u001b[39;49m\u001b[38;5;241;43m*\u001b[39;49m\u001b[43mkwds\u001b[49m\u001b[43m)\u001b[49m\n\u001b[0;32m    622\u001b[0m \u001b[38;5;28;01mif\u001b[39;00m chunksize \u001b[38;5;129;01mor\u001b[39;00m iterator:\n\u001b[0;32m    623\u001b[0m     \u001b[38;5;28;01mreturn\u001b[39;00m parser\n",
      "File \u001b[1;32mc:\\Users\\Mfq\\AppData\\Local\\Programs\\Python\\Python313\\Lib\\site-packages\\pandas\\io\\parsers\\readers.py:1620\u001b[0m, in \u001b[0;36mTextFileReader.__init__\u001b[1;34m(self, f, engine, **kwds)\u001b[0m\n\u001b[0;32m   1617\u001b[0m     \u001b[38;5;28mself\u001b[39m\u001b[38;5;241m.\u001b[39moptions[\u001b[38;5;124m\"\u001b[39m\u001b[38;5;124mhas_index_names\u001b[39m\u001b[38;5;124m\"\u001b[39m] \u001b[38;5;241m=\u001b[39m kwds[\u001b[38;5;124m\"\u001b[39m\u001b[38;5;124mhas_index_names\u001b[39m\u001b[38;5;124m\"\u001b[39m]\n\u001b[0;32m   1619\u001b[0m \u001b[38;5;28mself\u001b[39m\u001b[38;5;241m.\u001b[39mhandles: IOHandles \u001b[38;5;241m|\u001b[39m \u001b[38;5;28;01mNone\u001b[39;00m \u001b[38;5;241m=\u001b[39m \u001b[38;5;28;01mNone\u001b[39;00m\n\u001b[1;32m-> 1620\u001b[0m \u001b[38;5;28mself\u001b[39m\u001b[38;5;241m.\u001b[39m_engine \u001b[38;5;241m=\u001b[39m \u001b[38;5;28;43mself\u001b[39;49m\u001b[38;5;241;43m.\u001b[39;49m\u001b[43m_make_engine\u001b[49m\u001b[43m(\u001b[49m\u001b[43mf\u001b[49m\u001b[43m,\u001b[49m\u001b[43m \u001b[49m\u001b[38;5;28;43mself\u001b[39;49m\u001b[38;5;241;43m.\u001b[39;49m\u001b[43mengine\u001b[49m\u001b[43m)\u001b[49m\n",
      "File \u001b[1;32mc:\\Users\\Mfq\\AppData\\Local\\Programs\\Python\\Python313\\Lib\\site-packages\\pandas\\io\\parsers\\readers.py:1880\u001b[0m, in \u001b[0;36mTextFileReader._make_engine\u001b[1;34m(self, f, engine)\u001b[0m\n\u001b[0;32m   1878\u001b[0m     \u001b[38;5;28;01mif\u001b[39;00m \u001b[38;5;124m\"\u001b[39m\u001b[38;5;124mb\u001b[39m\u001b[38;5;124m\"\u001b[39m \u001b[38;5;129;01mnot\u001b[39;00m \u001b[38;5;129;01min\u001b[39;00m mode:\n\u001b[0;32m   1879\u001b[0m         mode \u001b[38;5;241m+\u001b[39m\u001b[38;5;241m=\u001b[39m \u001b[38;5;124m\"\u001b[39m\u001b[38;5;124mb\u001b[39m\u001b[38;5;124m\"\u001b[39m\n\u001b[1;32m-> 1880\u001b[0m \u001b[38;5;28mself\u001b[39m\u001b[38;5;241m.\u001b[39mhandles \u001b[38;5;241m=\u001b[39m \u001b[43mget_handle\u001b[49m\u001b[43m(\u001b[49m\n\u001b[0;32m   1881\u001b[0m \u001b[43m    \u001b[49m\u001b[43mf\u001b[49m\u001b[43m,\u001b[49m\n\u001b[0;32m   1882\u001b[0m \u001b[43m    \u001b[49m\u001b[43mmode\u001b[49m\u001b[43m,\u001b[49m\n\u001b[0;32m   1883\u001b[0m \u001b[43m    \u001b[49m\u001b[43mencoding\u001b[49m\u001b[38;5;241;43m=\u001b[39;49m\u001b[38;5;28;43mself\u001b[39;49m\u001b[38;5;241;43m.\u001b[39;49m\u001b[43moptions\u001b[49m\u001b[38;5;241;43m.\u001b[39;49m\u001b[43mget\u001b[49m\u001b[43m(\u001b[49m\u001b[38;5;124;43m\"\u001b[39;49m\u001b[38;5;124;43mencoding\u001b[39;49m\u001b[38;5;124;43m\"\u001b[39;49m\u001b[43m,\u001b[49m\u001b[43m \u001b[49m\u001b[38;5;28;43;01mNone\u001b[39;49;00m\u001b[43m)\u001b[49m\u001b[43m,\u001b[49m\n\u001b[0;32m   1884\u001b[0m \u001b[43m    \u001b[49m\u001b[43mcompression\u001b[49m\u001b[38;5;241;43m=\u001b[39;49m\u001b[38;5;28;43mself\u001b[39;49m\u001b[38;5;241;43m.\u001b[39;49m\u001b[43moptions\u001b[49m\u001b[38;5;241;43m.\u001b[39;49m\u001b[43mget\u001b[49m\u001b[43m(\u001b[49m\u001b[38;5;124;43m\"\u001b[39;49m\u001b[38;5;124;43mcompression\u001b[39;49m\u001b[38;5;124;43m\"\u001b[39;49m\u001b[43m,\u001b[49m\u001b[43m \u001b[49m\u001b[38;5;28;43;01mNone\u001b[39;49;00m\u001b[43m)\u001b[49m\u001b[43m,\u001b[49m\n\u001b[0;32m   1885\u001b[0m \u001b[43m    \u001b[49m\u001b[43mmemory_map\u001b[49m\u001b[38;5;241;43m=\u001b[39;49m\u001b[38;5;28;43mself\u001b[39;49m\u001b[38;5;241;43m.\u001b[39;49m\u001b[43moptions\u001b[49m\u001b[38;5;241;43m.\u001b[39;49m\u001b[43mget\u001b[49m\u001b[43m(\u001b[49m\u001b[38;5;124;43m\"\u001b[39;49m\u001b[38;5;124;43mmemory_map\u001b[39;49m\u001b[38;5;124;43m\"\u001b[39;49m\u001b[43m,\u001b[49m\u001b[43m \u001b[49m\u001b[38;5;28;43;01mFalse\u001b[39;49;00m\u001b[43m)\u001b[49m\u001b[43m,\u001b[49m\n\u001b[0;32m   1886\u001b[0m \u001b[43m    \u001b[49m\u001b[43mis_text\u001b[49m\u001b[38;5;241;43m=\u001b[39;49m\u001b[43mis_text\u001b[49m\u001b[43m,\u001b[49m\n\u001b[0;32m   1887\u001b[0m \u001b[43m    \u001b[49m\u001b[43merrors\u001b[49m\u001b[38;5;241;43m=\u001b[39;49m\u001b[38;5;28;43mself\u001b[39;49m\u001b[38;5;241;43m.\u001b[39;49m\u001b[43moptions\u001b[49m\u001b[38;5;241;43m.\u001b[39;49m\u001b[43mget\u001b[49m\u001b[43m(\u001b[49m\u001b[38;5;124;43m\"\u001b[39;49m\u001b[38;5;124;43mencoding_errors\u001b[39;49m\u001b[38;5;124;43m\"\u001b[39;49m\u001b[43m,\u001b[49m\u001b[43m \u001b[49m\u001b[38;5;124;43m\"\u001b[39;49m\u001b[38;5;124;43mstrict\u001b[39;49m\u001b[38;5;124;43m\"\u001b[39;49m\u001b[43m)\u001b[49m\u001b[43m,\u001b[49m\n\u001b[0;32m   1888\u001b[0m \u001b[43m    \u001b[49m\u001b[43mstorage_options\u001b[49m\u001b[38;5;241;43m=\u001b[39;49m\u001b[38;5;28;43mself\u001b[39;49m\u001b[38;5;241;43m.\u001b[39;49m\u001b[43moptions\u001b[49m\u001b[38;5;241;43m.\u001b[39;49m\u001b[43mget\u001b[49m\u001b[43m(\u001b[49m\u001b[38;5;124;43m\"\u001b[39;49m\u001b[38;5;124;43mstorage_options\u001b[39;49m\u001b[38;5;124;43m\"\u001b[39;49m\u001b[43m,\u001b[49m\u001b[43m \u001b[49m\u001b[38;5;28;43;01mNone\u001b[39;49;00m\u001b[43m)\u001b[49m\u001b[43m,\u001b[49m\n\u001b[0;32m   1889\u001b[0m \u001b[43m\u001b[49m\u001b[43m)\u001b[49m\n\u001b[0;32m   1890\u001b[0m \u001b[38;5;28;01massert\u001b[39;00m \u001b[38;5;28mself\u001b[39m\u001b[38;5;241m.\u001b[39mhandles \u001b[38;5;129;01mis\u001b[39;00m \u001b[38;5;129;01mnot\u001b[39;00m \u001b[38;5;28;01mNone\u001b[39;00m\n\u001b[0;32m   1891\u001b[0m f \u001b[38;5;241m=\u001b[39m \u001b[38;5;28mself\u001b[39m\u001b[38;5;241m.\u001b[39mhandles\u001b[38;5;241m.\u001b[39mhandle\n",
      "File \u001b[1;32mc:\\Users\\Mfq\\AppData\\Local\\Programs\\Python\\Python313\\Lib\\site-packages\\pandas\\io\\common.py:873\u001b[0m, in \u001b[0;36mget_handle\u001b[1;34m(path_or_buf, mode, encoding, compression, memory_map, is_text, errors, storage_options)\u001b[0m\n\u001b[0;32m    868\u001b[0m \u001b[38;5;28;01melif\u001b[39;00m \u001b[38;5;28misinstance\u001b[39m(handle, \u001b[38;5;28mstr\u001b[39m):\n\u001b[0;32m    869\u001b[0m     \u001b[38;5;66;03m# Check whether the filename is to be opened in binary mode.\u001b[39;00m\n\u001b[0;32m    870\u001b[0m     \u001b[38;5;66;03m# Binary mode does not support 'encoding' and 'newline'.\u001b[39;00m\n\u001b[0;32m    871\u001b[0m     \u001b[38;5;28;01mif\u001b[39;00m ioargs\u001b[38;5;241m.\u001b[39mencoding \u001b[38;5;129;01mand\u001b[39;00m \u001b[38;5;124m\"\u001b[39m\u001b[38;5;124mb\u001b[39m\u001b[38;5;124m\"\u001b[39m \u001b[38;5;129;01mnot\u001b[39;00m \u001b[38;5;129;01min\u001b[39;00m ioargs\u001b[38;5;241m.\u001b[39mmode:\n\u001b[0;32m    872\u001b[0m         \u001b[38;5;66;03m# Encoding\u001b[39;00m\n\u001b[1;32m--> 873\u001b[0m         handle \u001b[38;5;241m=\u001b[39m \u001b[38;5;28;43mopen\u001b[39;49m\u001b[43m(\u001b[49m\n\u001b[0;32m    874\u001b[0m \u001b[43m            \u001b[49m\u001b[43mhandle\u001b[49m\u001b[43m,\u001b[49m\n\u001b[0;32m    875\u001b[0m \u001b[43m            \u001b[49m\u001b[43mioargs\u001b[49m\u001b[38;5;241;43m.\u001b[39;49m\u001b[43mmode\u001b[49m\u001b[43m,\u001b[49m\n\u001b[0;32m    876\u001b[0m \u001b[43m            \u001b[49m\u001b[43mencoding\u001b[49m\u001b[38;5;241;43m=\u001b[39;49m\u001b[43mioargs\u001b[49m\u001b[38;5;241;43m.\u001b[39;49m\u001b[43mencoding\u001b[49m\u001b[43m,\u001b[49m\n\u001b[0;32m    877\u001b[0m \u001b[43m            \u001b[49m\u001b[43merrors\u001b[49m\u001b[38;5;241;43m=\u001b[39;49m\u001b[43merrors\u001b[49m\u001b[43m,\u001b[49m\n\u001b[0;32m    878\u001b[0m \u001b[43m            \u001b[49m\u001b[43mnewline\u001b[49m\u001b[38;5;241;43m=\u001b[39;49m\u001b[38;5;124;43m\"\u001b[39;49m\u001b[38;5;124;43m\"\u001b[39;49m\u001b[43m,\u001b[49m\n\u001b[0;32m    879\u001b[0m \u001b[43m        \u001b[49m\u001b[43m)\u001b[49m\n\u001b[0;32m    880\u001b[0m     \u001b[38;5;28;01melse\u001b[39;00m:\n\u001b[0;32m    881\u001b[0m         \u001b[38;5;66;03m# Binary mode\u001b[39;00m\n\u001b[0;32m    882\u001b[0m         handle \u001b[38;5;241m=\u001b[39m \u001b[38;5;28mopen\u001b[39m(handle, ioargs\u001b[38;5;241m.\u001b[39mmode)\n",
      "\u001b[1;31mFileNotFoundError\u001b[0m: [Errno 2] No such file or directory: 'flavors_of_cacao.csv'"
     ]
    }
   ],
   "source": [
    "df = pd.read_csv(\"flavors_of_cacao.csv\")\n",
    "columns = [\"company\", \"species\", \"REF\", \"review_year\", \"cocoa_percentage\", \"company_location\", \"rating\", \"bean_type\", \"country\"]\n",
    "df.columns = columns\n",
    "df.head()"
   ]
  },
  {
   "cell_type": "markdown",
   "metadata": {},
   "source": [
    "Типы данных в столбцах:"
   ]
  },
  {
   "cell_type": "code",
   "execution_count": null,
   "metadata": {},
   "outputs": [
    {
     "name": "stdout",
     "output_type": "stream",
     "text": [
      "<class 'pandas.core.frame.DataFrame'>\n",
      "RangeIndex: 1795 entries, 0 to 1794\n",
      "Data columns (total 9 columns):\n",
      " #   Column            Non-Null Count  Dtype  \n",
      "---  ------            --------------  -----  \n",
      " 0   company           1795 non-null   object \n",
      " 1   species           1795 non-null   object \n",
      " 2   REF               1795 non-null   int64  \n",
      " 3   review_year       1795 non-null   int64  \n",
      " 4   cocoa_percentage  1795 non-null   object \n",
      " 5   company_location  1795 non-null   object \n",
      " 6   rating            1795 non-null   float64\n",
      " 7   bean_type         1794 non-null   object \n",
      " 8   country           1794 non-null   object \n",
      "dtypes: float64(1), int64(2), object(6)\n",
      "memory usage: 126.3+ KB\n"
     ]
    }
   ],
   "source": [
    "df.info()"
   ]
  },
  {
   "cell_type": "markdown",
   "metadata": {},
   "source": [
    "Все типы данных, кроме cocoa_percentage, нас устраивают.   \n",
    "Для удобства переведем его в числовой тип:"
   ]
  },
  {
   "cell_type": "code",
   "execution_count": null,
   "metadata": {},
   "outputs": [
    {
     "data": {
      "text/plain": [
       "dtype('float64')"
      ]
     },
     "execution_count": 12865,
     "metadata": {},
     "output_type": "execute_result"
    }
   ],
   "source": [
    "df[\"cocoa_percentage\"] = df[\"cocoa_percentage\"].str[0:-1].astype(\"float64\")/100\n",
    "df[\"cocoa_percentage\"].dtype\n"
   ]
  },
  {
   "cell_type": "markdown",
   "metadata": {},
   "source": [
    "Прверим наличие дубликатов:"
   ]
  },
  {
   "cell_type": "code",
   "execution_count": null,
   "metadata": {},
   "outputs": [
    {
     "data": {
      "text/html": [
       "<div>\n",
       "<style scoped>\n",
       "    .dataframe tbody tr th:only-of-type {\n",
       "        vertical-align: middle;\n",
       "    }\n",
       "\n",
       "    .dataframe tbody tr th {\n",
       "        vertical-align: top;\n",
       "    }\n",
       "\n",
       "    .dataframe thead th {\n",
       "        text-align: right;\n",
       "    }\n",
       "</style>\n",
       "<table border=\"1\" class=\"dataframe\">\n",
       "  <thead>\n",
       "    <tr style=\"text-align: right;\">\n",
       "      <th></th>\n",
       "      <th>company</th>\n",
       "      <th>species</th>\n",
       "      <th>REF</th>\n",
       "      <th>review_year</th>\n",
       "      <th>cocoa_percentage</th>\n",
       "      <th>company_location</th>\n",
       "      <th>rating</th>\n",
       "      <th>bean_type</th>\n",
       "      <th>country</th>\n",
       "    </tr>\n",
       "  </thead>\n",
       "  <tbody>\n",
       "  </tbody>\n",
       "</table>\n",
       "</div>"
      ],
      "text/plain": [
       "Empty DataFrame\n",
       "Columns: [company, species, REF, review_year, cocoa_percentage, company_location, rating, bean_type, country]\n",
       "Index: []"
      ]
     },
     "execution_count": 12866,
     "metadata": {},
     "output_type": "execute_result"
    }
   ],
   "source": [
    "df[df.duplicated()]"
   ]
  },
  {
   "cell_type": "markdown",
   "metadata": {},
   "source": [
    "Дабликаты отсутствуют.  \n",
    "  \n",
    "Изучим пропущенные значения.   \n",
    "В исходной таблице уже видно, что в столбце bean_type часть данных отсутствует. Попробуем поискать и другие пропуски и подсчитать их."
   ]
  },
  {
   "cell_type": "code",
   "execution_count": null,
   "metadata": {},
   "outputs": [
    {
     "data": {
      "text/plain": [
       "'\\xa0'"
      ]
     },
     "execution_count": 12867,
     "metadata": {},
     "output_type": "execute_result"
    }
   ],
   "source": [
    "\n",
    "df.loc[0, \"bean_type\"]"
   ]
  },
  {
   "cell_type": "code",
   "execution_count": null,
   "metadata": {},
   "outputs": [
    {
     "data": {
      "text/html": [
       "<div>\n",
       "<style scoped>\n",
       "    .dataframe tbody tr th:only-of-type {\n",
       "        vertical-align: middle;\n",
       "    }\n",
       "\n",
       "    .dataframe tbody tr th {\n",
       "        vertical-align: top;\n",
       "    }\n",
       "\n",
       "    .dataframe thead th {\n",
       "        text-align: right;\n",
       "    }\n",
       "</style>\n",
       "<table border=\"1\" class=\"dataframe\">\n",
       "  <thead>\n",
       "    <tr style=\"text-align: right;\">\n",
       "      <th></th>\n",
       "      <th>company</th>\n",
       "      <th>species</th>\n",
       "      <th>REF</th>\n",
       "      <th>review_year</th>\n",
       "      <th>cocoa_percentage</th>\n",
       "      <th>company_location</th>\n",
       "      <th>rating</th>\n",
       "      <th>bean_type</th>\n",
       "      <th>country</th>\n",
       "    </tr>\n",
       "  </thead>\n",
       "  <tbody>\n",
       "    <tr>\n",
       "      <th>0</th>\n",
       "      <td>A. Morin</td>\n",
       "      <td>Agua Grande</td>\n",
       "      <td>1876</td>\n",
       "      <td>2016</td>\n",
       "      <td>0.63</td>\n",
       "      <td>France</td>\n",
       "      <td>3.75</td>\n",
       "      <td>NaN</td>\n",
       "      <td>Sao Tome</td>\n",
       "    </tr>\n",
       "    <tr>\n",
       "      <th>1</th>\n",
       "      <td>A. Morin</td>\n",
       "      <td>Kpime</td>\n",
       "      <td>1676</td>\n",
       "      <td>2015</td>\n",
       "      <td>0.70</td>\n",
       "      <td>France</td>\n",
       "      <td>2.75</td>\n",
       "      <td>NaN</td>\n",
       "      <td>Togo</td>\n",
       "    </tr>\n",
       "    <tr>\n",
       "      <th>2</th>\n",
       "      <td>A. Morin</td>\n",
       "      <td>Atsane</td>\n",
       "      <td>1676</td>\n",
       "      <td>2015</td>\n",
       "      <td>0.70</td>\n",
       "      <td>France</td>\n",
       "      <td>3.00</td>\n",
       "      <td>NaN</td>\n",
       "      <td>Togo</td>\n",
       "    </tr>\n",
       "    <tr>\n",
       "      <th>3</th>\n",
       "      <td>A. Morin</td>\n",
       "      <td>Akata</td>\n",
       "      <td>1680</td>\n",
       "      <td>2015</td>\n",
       "      <td>0.70</td>\n",
       "      <td>France</td>\n",
       "      <td>3.50</td>\n",
       "      <td>NaN</td>\n",
       "      <td>Togo</td>\n",
       "    </tr>\n",
       "    <tr>\n",
       "      <th>4</th>\n",
       "      <td>A. Morin</td>\n",
       "      <td>Quilla</td>\n",
       "      <td>1704</td>\n",
       "      <td>2015</td>\n",
       "      <td>0.70</td>\n",
       "      <td>France</td>\n",
       "      <td>3.50</td>\n",
       "      <td>NaN</td>\n",
       "      <td>Peru</td>\n",
       "    </tr>\n",
       "  </tbody>\n",
       "</table>\n",
       "</div>"
      ],
      "text/plain": [
       "    company      species   REF  review_year  cocoa_percentage  \\\n",
       "0  A. Morin  Agua Grande  1876         2016              0.63   \n",
       "1  A. Morin        Kpime  1676         2015              0.70   \n",
       "2  A. Morin       Atsane  1676         2015              0.70   \n",
       "3  A. Morin        Akata  1680         2015              0.70   \n",
       "4  A. Morin       Quilla  1704         2015              0.70   \n",
       "\n",
       "  company_location  rating bean_type   country  \n",
       "0           France    3.75       NaN  Sao Tome  \n",
       "1           France    2.75       NaN      Togo  \n",
       "2           France    3.00       NaN      Togo  \n",
       "3           France    3.50       NaN      Togo  \n",
       "4           France    3.50       NaN      Peru  "
      ]
     },
     "execution_count": 12868,
     "metadata": {},
     "output_type": "execute_result"
    }
   ],
   "source": [
    "# Заменим строки, которые содержат только пустые значения, пробелы или '\\xa0' на NaN:\n",
    "df.replace('', np.nan, inplace=True)\n",
    "df.replace(' ', np.nan, inplace=True) \n",
    "df.replace('\\xa0', np.nan, inplace=True) \n",
    "df[df.isna().any(axis=1)].loc[:5:]"
   ]
  },
  {
   "cell_type": "code",
   "execution_count": null,
   "metadata": {},
   "outputs": [
    {
     "data": {
      "text/plain": [
       "Index(['bean_type', 'country'], dtype='object')"
      ]
     },
     "execution_count": 12869,
     "metadata": {},
     "output_type": "execute_result"
    }
   ],
   "source": [
    "df.columns[df.isna().any(axis=0)]"
   ]
  },
  {
   "cell_type": "code",
   "execution_count": null,
   "metadata": {},
   "outputs": [
    {
     "data": {
      "text/plain": [
       "(888, 74)"
      ]
     },
     "execution_count": 12870,
     "metadata": {},
     "output_type": "execute_result"
    }
   ],
   "source": [
    "int(df[\"bean_type\"].isna().sum()), int(df[\"country\"].isna().sum())"
   ]
  },
  {
   "cell_type": "markdown",
   "metadata": {},
   "source": [
    "Пропуски обнаружены в столбцах bean_type (888 шт.) и country (74 шт.):   \n",
    "* в bean_type оставим их как есть;  \n",
    "* в country - заменим на Unknown.  "
   ]
  },
  {
   "cell_type": "code",
   "execution_count": null,
   "metadata": {},
   "outputs": [
    {
     "data": {
      "text/plain": [
       "0"
      ]
     },
     "execution_count": 12871,
     "metadata": {},
     "output_type": "execute_result"
    }
   ],
   "source": [
    "df[\"country\"] = df[\"country\"].fillna(\"Unknown\")\n",
    "int(df[\"country\"].isna().sum())"
   ]
  },
  {
   "cell_type": "markdown",
   "metadata": {},
   "source": [
    "Проверим корректность заполнения числовых данных:  \n",
    "* review_year - не больше текущего года;\n",
    "* cocoa_percentage - от 0 до 1;\n",
    "* rating - от 1 до 5."
   ]
  },
  {
   "cell_type": "code",
   "execution_count": null,
   "metadata": {},
   "outputs": [
    {
     "data": {
      "text/plain": [
       "0"
      ]
     },
     "execution_count": 12872,
     "metadata": {},
     "output_type": "execute_result"
    }
   ],
   "source": [
    "current_year = pd.to_datetime('today').year\n",
    "len(df[df[\"review_year\"] > current_year])"
   ]
  },
  {
   "cell_type": "code",
   "execution_count": null,
   "metadata": {},
   "outputs": [
    {
     "data": {
      "text/plain": [
       "0"
      ]
     },
     "execution_count": 12873,
     "metadata": {},
     "output_type": "execute_result"
    }
   ],
   "source": [
    "len(df[(df[\"cocoa_percentage\"] < 0) | (df[\"cocoa_percentage\"] > 1)])"
   ]
  },
  {
   "cell_type": "code",
   "execution_count": null,
   "metadata": {},
   "outputs": [
    {
     "data": {
      "text/plain": [
       "0"
      ]
     },
     "execution_count": 12874,
     "metadata": {},
     "output_type": "execute_result"
    }
   ],
   "source": [
    "len(df[(df[\"rating\"] < 1) | (df[\"rating\"] > 5)])"
   ]
  },
  {
   "cell_type": "markdown",
   "metadata": {},
   "source": [
    "Числовые данные заполнены корректно.  \n",
    "Посмотрим, в какие годы были опубликованы данные (столбец review_year):"
   ]
  },
  {
   "cell_type": "code",
   "execution_count": null,
   "metadata": {},
   "outputs": [
    {
     "data": {
      "text/plain": [
       "review_year\n",
       "2006     72\n",
       "2007     77\n",
       "2008     93\n",
       "2009    123\n",
       "2010    111\n",
       "2011    165\n",
       "2012    195\n",
       "2013    184\n",
       "2014    247\n",
       "2015    285\n",
       "2016    219\n",
       "2017     24\n",
       "dtype: int64"
      ]
     },
     "execution_count": 12875,
     "metadata": {},
     "output_type": "execute_result"
    }
   ],
   "source": [
    "df.groupby(\"review_year\").size()"
   ]
  },
  {
   "cell_type": "markdown",
   "metadata": {},
   "source": [
    "Представленные данные охватывают 2006-2017 годы."
   ]
  },
  {
   "cell_type": "markdown",
   "metadata": {},
   "source": [
    "Проверим некоторые столбцы со строковыми данными:\n",
    "* не должно быть орфографических ошибок;\n",
    "* когда в ячейке несколько значений, они должны быть в виде списка. "
   ]
  },
  {
   "cell_type": "markdown",
   "metadata": {},
   "source": [
    "**Стобец country**"
   ]
  },
  {
   "cell_type": "code",
   "execution_count": null,
   "metadata": {},
   "outputs": [
    {
     "data": {
      "text/plain": [
       "array(['Sao Tome', 'Togo', 'Peru', 'Venezuela', 'Cuba', 'Panama',\n",
       "       'Madagascar', 'Brazil', 'Ecuador', 'Colombia', 'Burma',\n",
       "       'Papua New Guinea', 'Bolivia', 'Fiji', 'Mexico', 'Indonesia',\n",
       "       'Trinidad', 'Vietnam', 'Nicaragua', 'Tanzania',\n",
       "       'Dominican Republic', 'Ghana', 'Belize', 'Unknown', 'Jamaica',\n",
       "       'Grenada', 'Guatemala', 'Honduras', 'Costa Rica',\n",
       "       'Domincan Republic', 'Haiti', 'Congo', 'Philippines', 'Malaysia',\n",
       "       'Dominican Rep., Bali', 'Venez,Africa,Brasil,Peru,Mex', 'Gabon',\n",
       "       'Ivory Coast', 'Carribean', 'Sri Lanka', 'Puerto Rico', 'Uganda',\n",
       "       'Martinique', 'Sao Tome & Principe', 'Vanuatu', 'Australia',\n",
       "       'Liberia', 'Ecuador, Costa Rica', 'West Africa', 'Hawaii',\n",
       "       'St. Lucia', 'Cost Rica, Ven', 'Peru, Madagascar',\n",
       "       'Venezuela, Trinidad', 'Trinidad, Tobago',\n",
       "       'Ven, Trinidad, Ecuador', 'South America, Africa', 'India',\n",
       "       'Africa, Carribean, C. Am.', 'Tobago', 'Ven., Indonesia, Ecuad.',\n",
       "       'Trinidad-Tobago', 'Peru, Ecuador, Venezuela',\n",
       "       'Venezuela, Dom. Rep.', 'Colombia, Ecuador', 'Solomon Islands',\n",
       "       'Nigeria', 'Peru, Belize', 'Peru, Mad., Dom. Rep.',\n",
       "       'PNG, Vanuatu, Mad', 'El Salvador', 'South America', 'Samoa',\n",
       "       'Ghana, Domin. Rep', 'Trinidad, Ecuador', 'Cameroon',\n",
       "       'Venezuela, Java', 'Venezuela/ Ghana', 'Venezuela, Ghana',\n",
       "       'Indonesia, Ghana', 'Peru(SMartin,Pangoa,nacional)', 'Principe',\n",
       "       'Central and S. America', 'Ven., Trinidad, Mad.',\n",
       "       'Carribean(DR/Jam/Tri)', 'Ghana & Madagascar',\n",
       "       'Ven.,Ecu.,Peru,Nic.', 'Madagascar & Ecuador',\n",
       "       'Guat., D.R., Peru, Mad., PNG', 'Peru, Dom. Rep',\n",
       "       'Dom. Rep., Madagascar', 'Gre., PNG, Haw., Haiti, Mad',\n",
       "       'Mad., Java, PNG', 'Ven, Bolivia, D.R.', 'DR, Ecuador, Peru',\n",
       "       'Suriname', 'Peru, Ecuador', 'Ecuador, Mad., PNG',\n",
       "       'Ghana, Panama, Ecuador', 'Venezuela, Carribean'], dtype=object)"
      ]
     },
     "execution_count": 12876,
     "metadata": {},
     "output_type": "execute_result"
    }
   ],
   "source": [
    "df[\"country\"].unique()"
   ]
  },
  {
   "cell_type": "markdown",
   "metadata": {},
   "source": [
    "Видно, что в некоторых ячейках может быть несколько стран, а где-то штаты или целые континенты. Также написание может отличаться.   \n",
    "Работать с такими данными неудобно.  \n",
    "Чтобы решить эту задачу, создадим новый столбец с континентом. Для этого напишем словарь соответствий, а также объединим континенты в списки."
   ]
  },
  {
   "cell_type": "code",
   "execution_count": null,
   "metadata": {},
   "outputs": [],
   "source": [
    "# Словарь стран и регионов -> континенты\n",
    "continent_mapping = {\n",
    "    # Южная Америка\n",
    "    \"Venezuela\": \"South America\",\n",
    "    \"Ven\": \"South America\",\n",
    "    \"Venez\": \"South America\",\n",
    "    \"Ven.\": \"South America\",\n",
    "    \"Peru\": \"South America\",\n",
    "    \"Brazil\": \"South America\",\n",
    "    \"Brasil\": \"South America\",\n",
    "    \"Ecuador\": \"South America\",\n",
    "    \"Ecuad\": \"South America\",\n",
    "    \"Ecuad.\": \"South America\",\n",
    "    \"Colombia\": \"South America\",\n",
    "    \"Bolivia\": \"South America\",\n",
    "    \"South America\": \"South America\",\n",
    "    \"Suriname\": \"South America\",\n",
    "    # Центральная Америка (без Карибских островов)\n",
    "    \"Panama\": \"Central America\",\n",
    "    \"Mexico\": \"Central America\",\n",
    "    \"Nicaragua\": \"Central America\",\n",
    "    \"Belize\": \"Central America\",\n",
    "    \"Guatemala\": \"Central America\",\n",
    "    \"Honduras\": \"Central America\",\n",
    "    \"Costa Rica\": \"Central America\",\n",
    "    \"El Salvador\": \"Central America\",\n",
    "    \"United States\": \"Central America\",  \n",
    "    \"Hawaii\": \"Central America\",       \n",
    "    # Карибы\n",
    "    \"Cuba\": \"Caribbean\",\n",
    "    \"Dominican Republic\": \"Caribbean\",\n",
    "    \"Domincan Republic\": \"Caribbean\",\n",
    "    \"Dominican Rep\": \"Caribbean\",\n",
    "    \"Dominican Rep.\": \"Caribbean\",\n",
    "    \"Domin. Rep\": \"Caribbean\",\n",
    "    \"Dom. Rep\": \"Caribbean\",\n",
    "    \"Dom. Rep.\": \"Caribbean\",\n",
    "    \"D.R.\": \"Caribbean\",\n",
    "    \"DR\": \"Caribbean\",\n",
    "    \"Jamaica\": \"Caribbean\",\n",
    "    \"Grenada\": \"Caribbean\",\n",
    "    \"Haiti\": \"Caribbean\",\n",
    "    \"Trinidad\": \"Caribbean\",\n",
    "    \"Tobago\": \"Caribbean\",\n",
    "    \"Trinidad-Tobago\": \"Caribbean\",\n",
    "    \"Puerto Rico\": \"Caribbean\",\n",
    "    \"Martinique\": \"Caribbean\",\n",
    "    \"St. Lucia\": \"Caribbean\",\n",
    "    \"Carribean\": \"Caribbean\",\n",
    "    \"Tri\": \"Caribbean\",\n",
    "    \"Gre\": \"Caribbean\",\n",
    "    \"Jam\": \"Caribbean\",\n",
    "    # Африка\n",
    "    \"Sao Tome\": \"Africa\",\n",
    "    \"Togo\": \"Africa\",\n",
    "    \"Madagascar\": \"Africa\",\n",
    "    \"Ghana\": \"Africa\",\n",
    "    \"Tanzania\": \"Africa\",\n",
    "    \"Congo\": \"Africa\",\n",
    "    \"Gabon\": \"Africa\",\n",
    "    \"Ivory Coast\": \"Africa\",\n",
    "    \"Uganda\": \"Africa\",\n",
    "    \"Liberia\": \"Africa\",\n",
    "    \"West Africa\": \"Africa\",\n",
    "    \"Nigeria\": \"Africa\",\n",
    "    \"Cameroon\": \"Africa\",\n",
    "    \"Sao Tome & Principe\": \"Africa\",\n",
    "    \"Principe\": \"Africa\",\n",
    "    \"Africa\": \"Africa\",\n",
    "    \"Mad\": \"Africa\",\n",
    "    \"Mad.\": \"Africa\",\n",
    "    # Азия\n",
    "    \"Burma\": \"Asia\",\n",
    "    \"Vietnam\": \"Asia\",\n",
    "    \"Indonesia\": \"Asia\",\n",
    "    \"Philippines\": \"Asia\",\n",
    "    \"Malaysia\": \"Asia\",\n",
    "    \"Sri Lanka\": \"Asia\",\n",
    "    \"India\": \"Asia\",\n",
    "    \"Java\": \"Asia\",\n",
    "    \"Bali\": \"Asia\",\n",
    "    # Океания\n",
    "    \"Papua New Guinea\": \"Oceania\",\n",
    "    \"Fiji\": \"Oceania\",\n",
    "    \"Vanuatu\": \"Oceania\",\n",
    "    \"Australia\": \"Oceania\",\n",
    "    \"Solomon Islands\": \"Oceania\",\n",
    "    \"Samoa\": \"Oceania\",\n",
    "    \"PNG\": \"Oceania\",\n",
    "    # Неизвестно\n",
    "    \"Unknown\": \"Unknown\",\n",
    "    # Специфические случаи\n",
    "    \"Peru(SMartin,Pangoa,nacional)\": \"South America\",\n",
    "    \"Central and S. America\": \"Central America, South America\",\n",
    "    \"C. Am.\": \"Central America\",\n",
    "    \"Cost Rica, Ven\": \"Central America, South America\"\n",
    "}"
   ]
  },
  {
   "cell_type": "code",
   "execution_count": null,
   "metadata": {},
   "outputs": [
    {
     "data": {
      "text/plain": [
       "array(['Unknown', 'Africa', 'South America', 'Caribbean',\n",
       "       'Central America', 'Asia', 'Oceania'], dtype=object)"
      ]
     },
     "execution_count": 12878,
     "metadata": {},
     "output_type": "execute_result"
    }
   ],
   "source": [
    "# Функция преобразования строки в список континентов\n",
    "def to_continents(country_str):\n",
    "    # Обработаем отсутствующие значения\n",
    "    if not isinstance(country_str, str):\n",
    "        return [country_str]\n",
    "    \n",
    "    # Убираем уточнения в скобках\n",
    "    country_str = re.sub(r\"\\(.*?\\)\", \"\", country_str).strip()\n",
    "    country_str = country_str.replace(\"(\", \"\").replace(\")\", \"\")\n",
    "    \n",
    "    # Разбиваем по разделителям\n",
    "    locations = re.split(r\"[,/&-]\\s*|\\s+(?=[A-Z])\", country_str.strip())\n",
    "    \n",
    "    # Преобразуем в континенты\n",
    "    continents = set() \n",
    "    for loc in locations:\n",
    "        loc = loc.strip()\n",
    "        if loc:\n",
    "            continent = continent_mapping.get(loc, \"Unknown\")\n",
    "            if continent:\n",
    "                continents.update([x.strip() for x in continent.split(\",\") if x.strip()])\n",
    "    \n",
    "    # Возвращаем список\n",
    "    return list(continents) if continents else [\"Unknown\"]\n",
    "\n",
    "df['continent'] = df['country'].apply(to_continents)\n",
    "unique_continents = df['continent'].explode().unique()\n",
    "unique_continents"
   ]
  },
  {
   "cell_type": "markdown",
   "metadata": {},
   "source": [
    "**Столбец company_location**"
   ]
  },
  {
   "cell_type": "code",
   "execution_count": null,
   "metadata": {},
   "outputs": [
    {
     "data": {
      "text/plain": [
       "(array(['France', 'U.S.A.', 'Fiji', 'Ecuador', 'Mexico', 'Switzerland',\n",
       "        'Netherlands', 'Spain', 'Peru', 'Canada', 'Italy', 'Brazil',\n",
       "        'U.K.', 'Australia', 'Wales', 'Belgium', 'Germany', 'Russia',\n",
       "        'Puerto Rico', 'Venezuela', 'Colombia', 'Japan', 'New Zealand',\n",
       "        'Costa Rica', 'South Korea', 'Amsterdam', 'Scotland', 'Martinique',\n",
       "        'Sao Tome', 'Argentina', 'Guatemala', 'South Africa', 'Bolivia',\n",
       "        'St. Lucia', 'Portugal', 'Singapore', 'Denmark', 'Vietnam',\n",
       "        'Grenada', 'Israel', 'India', 'Czech Republic',\n",
       "        'Domincan Republic', 'Finland', 'Madagascar', 'Philippines',\n",
       "        'Sweden', 'Poland', 'Austria', 'Honduras', 'Nicaragua',\n",
       "        'Lithuania', 'Niacragua', 'Chile', 'Ghana', 'Iceland', 'Eucador',\n",
       "        'Hungary', 'Suriname', 'Ireland'], dtype=object),\n",
       " 60)"
      ]
     },
     "execution_count": 12879,
     "metadata": {},
     "output_type": "execute_result"
    }
   ],
   "source": [
    "df[\"company_location\"].unique(), len(df[\"company_location\"].unique())"
   ]
  },
  {
   "cell_type": "markdown",
   "metadata": {},
   "source": [
    "Исправим орфографические ошибки:"
   ]
  },
  {
   "cell_type": "code",
   "execution_count": null,
   "metadata": {},
   "outputs": [
    {
     "data": {
      "text/plain": [
       "57"
      ]
     },
     "execution_count": 12880,
     "metadata": {},
     "output_type": "execute_result"
    }
   ],
   "source": [
    "df[\"company_location\"] = df[\"company_location\"].replace({  \n",
    "    \"Domincan Republic\": \"Dominican Republic\",  \n",
    "    \"Niacragua\": \"Nicaragua\",  \n",
    "    \"Eucador\": \"Ecuador\",  \n",
    "    \"Amsterdam\": \"Netherlands\"  \n",
    "})\n",
    "len(df[\"company_location\"].unique())\n"
   ]
  },
  {
   "cell_type": "markdown",
   "metadata": {},
   "source": [
    "**Столбец company**"
   ]
  },
  {
   "cell_type": "code",
   "execution_count": null,
   "metadata": {},
   "outputs": [
    {
     "data": {
      "text/plain": [
       "(array(['A. Morin', 'Acalli', 'Adi', 'Aequare (Gianduja)', 'Ah Cacao',\n",
       "        \"Akesson's (Pralus)\", 'Alain Ducasse', 'Alexandre',\n",
       "        'Altus aka Cao Artisan', 'Amano', 'Amatller (Simon Coll)',\n",
       "        'Amazona', 'Ambrosia', 'Amedei', 'AMMA', 'Anahata', 'Animas',\n",
       "        'Ara', 'Arete', 'Artisan du Chocolat',\n",
       "        'Artisan du Chocolat (Casa Luker)', 'Askinosie', 'Bahen & Co.',\n",
       "        'Bakau', 'Bar Au Chocolat', \"Baravelli's\", 'Batch', 'Beau Cacao',\n",
       "        'Beehive', 'Belcolade', 'Bellflower', 'Belyzium', 'Benoit Nihant',\n",
       "        'Bernachon', 'Beschle (Felchlin)', 'Bisou', 'Bittersweet Origins',\n",
       "        'Black Mountain', 'Black River (A. Morin)', 'Blanxart',\n",
       "        'Blue Bandana', 'Bonnat', 'Bouga Cacao (Tulicorp)', 'Bowler Man',\n",
       "        \"Brasstown aka It's Chocolate\", 'Brazen', 'Breeze Mill', 'Bright',\n",
       "        'Britarev', 'Bronx Grrl Chocolate'], dtype=object),\n",
       " 416)"
      ]
     },
     "execution_count": 12881,
     "metadata": {},
     "output_type": "execute_result"
    }
   ],
   "source": [
    "df[\"company\"].unique()[:50],  df[\"company\"].nunique()"
   ]
  },
  {
   "cell_type": "markdown",
   "metadata": {},
   "source": [
    "Орфографических ошибок нет.  \n",
    "Уникальных компаний очень много. Это значит, что крупных компаний, выпускающих больше одного вида батончика, мало."
   ]
  },
  {
   "cell_type": "markdown",
   "metadata": {},
   "source": [
    "**Столбец species**"
   ]
  },
  {
   "cell_type": "code",
   "execution_count": null,
   "metadata": {},
   "outputs": [
    {
     "data": {
      "text/plain": [
       "(array(['Agua Grande', 'Kpime', 'Atsane', 'Akata', 'Quilla', 'Carenero',\n",
       "        'Cuba', 'Sur del Lago', 'Puerto Cabello', 'Pablino', 'Panama',\n",
       "        'Madagascar', 'Brazil', 'Equateur', 'Colombie', 'Birmanie',\n",
       "        'Papua New Guinea', 'Chuao', 'Piura', 'Chanchamayo Province',\n",
       "        'Bolivia', 'Peru', 'Chulucanas, El Platanal', 'Tumbes, Norandino',\n",
       "        'Vanua Levu', 'Vanua Levu, Toto-A', 'Vanua Levu, Ami-Ami-CA',\n",
       "        'Los Rios, Quevedo, Arriba', 'Tabasco',\n",
       "        'Bali (west), Sukrama Family, Melaya area'], dtype=object),\n",
       " 1039)"
      ]
     },
     "execution_count": 12882,
     "metadata": {},
     "output_type": "execute_result"
    }
   ],
   "source": [
    "df[\"species\"].unique()[:30],  df[\"species\"].nunique()"
   ]
  },
  {
   "cell_type": "markdown",
   "metadata": {},
   "source": [
    "Орфографических ошибок нет.  \n",
    "Уникальных видов шоколада очень много. Однако некоторые из них используются для разных батончиков разных компаний."
   ]
  },
  {
   "cell_type": "markdown",
   "metadata": {},
   "source": [
    "**Столбец bean_type**"
   ]
  },
  {
   "cell_type": "code",
   "execution_count": null,
   "metadata": {},
   "outputs": [
    {
     "data": {
      "text/plain": [
       "(array([nan, 'Criollo', 'Trinitario', 'Forastero (Arriba)', 'Forastero',\n",
       "        'Forastero (Nacional)', 'Criollo, Trinitario',\n",
       "        'Criollo (Porcelana)', 'Blend', 'Trinitario (85% Criollo)',\n",
       "        'Forastero (Catongo)', 'Forastero (Parazinho)',\n",
       "        'Trinitario, Criollo', 'CCN51', 'Criollo (Ocumare)', 'Nacional',\n",
       "        'Criollo (Ocumare 61)', 'Criollo (Ocumare 77)',\n",
       "        'Criollo (Ocumare 67)', 'Criollo (Wild)', 'Beniano', 'Amazon mix',\n",
       "        'Trinitario, Forastero', 'Forastero (Arriba) ASS', 'Criollo, +',\n",
       "        'Amazon', 'Amazon, ICS', 'EET', 'Blend-Forastero,Criollo',\n",
       "        'Trinitario (Scavina)', 'Criollo, Forastero', 'Matina',\n",
       "        'Forastero(Arriba, CCN)', 'Nacional (Arriba)',\n",
       "        'Forastero (Arriba) ASSS', 'Forastero, Trinitario',\n",
       "        'Forastero (Amelonado)', 'Trinitario, Nacional',\n",
       "        'Trinitario (Amelonado)', 'Trinitario, TCGA', 'Criollo (Amarru)'],\n",
       "       dtype=object),\n",
       " 40)"
      ]
     },
     "execution_count": 12883,
     "metadata": {},
     "output_type": "execute_result"
    }
   ],
   "source": [
    "df[\"bean_type\"].unique(), df[\"bean_type\"].nunique()"
   ]
  },
  {
   "cell_type": "markdown",
   "metadata": {},
   "source": [
    "Исправим орфографические ошибки и форматирование:"
   ]
  },
  {
   "cell_type": "code",
   "execution_count": null,
   "metadata": {},
   "outputs": [
    {
     "data": {
      "text/plain": [
       "(array([nan, 'Criollo', 'Trinitario', 'Forastero (Arriba)', 'Forastero',\n",
       "        'Forastero (Nacional)', 'Criollo, Trinitario',\n",
       "        'Criollo (Porcelana)', 'Blend', 'Trinitario (85% Criollo)',\n",
       "        'Forastero (Catongo)', 'Forastero (Parazinho)', 'CCN51',\n",
       "        'Criollo (Ocumare)', 'Nacional', 'Criollo (Ocumare 61)',\n",
       "        'Criollo (Ocumare 77)', 'Criollo (Ocumare 67)', 'Criollo (Wild)',\n",
       "        'Beniano', 'Amazon mix', 'Forastero, Trinitario',\n",
       "        'Forastero (Arriba) ASS', 'Amazon', 'Amazon, ICS', 'EET',\n",
       "        'Blend-Forastero, Criollo', 'Trinitario (Scavina)',\n",
       "        'Criollo, Forastero', 'Matina', 'Forastero (Arriba, CCN)',\n",
       "        'Nacional (Arriba)', 'Forastero (Arriba) ASSS',\n",
       "        'Forastero (Amelonado)', 'Trinitario, Nacional',\n",
       "        'Trinitario (Amelonado)', 'Trinitario, TCGA', 'Criollo (Amarru)'],\n",
       "       dtype=object),\n",
       " 37)"
      ]
     },
     "execution_count": 12884,
     "metadata": {},
     "output_type": "execute_result"
    }
   ],
   "source": [
    "df[\"bean_type\"] = (df[\"bean_type\"].str\n",
    "                   .replace('Trinitario, Criollo', 'Criollo, Trinitario')\n",
    "                   .replace('Criollo, +', 'Criollo')\n",
    "                   .replace('Trinitario, Forastero', 'Forastero, Trinitario')\n",
    "                   .replace('Blend-Forastero,Criollo', 'Blend-Forastero, Criollo')\n",
    "                   .replace('Forastero(Arriba, CCN)', 'Forastero (Arriba, CCN)')\n",
    ")\n",
    "df[\"bean_type\"].unique(), df[\"bean_type\"].nunique()"
   ]
  },
  {
   "cell_type": "markdown",
   "metadata": {},
   "source": [
    "Всего 37 видов какао-бобов.  \n",
    "<br>"
   ]
  },
  {
   "cell_type": "markdown",
   "metadata": {},
   "source": [
    "## 3. Анализ данных <a id=\"data-analysis\"></a> "
   ]
  },
  {
   "cell_type": "markdown",
   "metadata": {},
   "source": [
    "Основная задача - определить, какие факторы делают шоколадные батончики высоко оцениваемыми и отражаются на рейтинге в большей степени.   \n",
    "Для ее решения:  \n",
    "* Во-первых, узнаем, оказывает ли влияние каждый из факторов на рейтинг.    \n",
    "Будем использовать однофакторный дисперсионный анализ, корреляцию и другие средства.  \n",
    "Изучим воздействие всех данных, кроме REF (временная метка, которая не поддается интерпретации).   \n",
    "* Во-вторых, построим модель линейной регрессии, чтобы оценить степень влияния.  \n",
    "  \n",
    "<br>"
   ]
  },
  {
   "cell_type": "markdown",
   "metadata": {},
   "source": [
    "### 3.1 Влияние компании и количества выпускаемых ею батончиков на рейтинг <a id=\"compnum-rating\"></a> "
   ]
  },
  {
   "cell_type": "markdown",
   "metadata": {},
   "source": [
    "Изучим, как компания влияет на рейтинг, с двух сторон:\n",
    "1. Зависит ли рейтинг от бренда компании?\n",
    "2. Влияет ли количество различных батончиков, выпускаемых компанией, на рейтинг?"
   ]
  },
  {
   "cell_type": "markdown",
   "metadata": {},
   "source": [
    "#### 3.1-1 Влияние бренда компании на рейтинг <a id=\"comp-rating\"></a>   \n",
    "Как правило, от компании к компании средний рейтинг шоколадных батончиков меняется. Убедимся, так ли то.  \n",
    "Будем учитывать только 9 компаний, производящих наибольшее количество батончиков:"
   ]
  },
  {
   "cell_type": "code",
   "execution_count": null,
   "metadata": {},
   "outputs": [
    {
     "data": {
      "text/plain": [
       "(Index(['Soma', 'Bonnat', 'Fresco', 'Pralus', 'A. Morin', 'Domori', 'Arete',\n",
       "        'Guittard', 'Valrhona'],\n",
       "       dtype='object', name='company'),\n",
       " np.int64(9))"
      ]
     },
     "execution_count": 12885,
     "metadata": {},
     "output_type": "execute_result"
    }
   ],
   "source": [
    "grouped = df.groupby(\"company\").size()\n",
    "filtered_groups = grouped[grouped > 19].sort_values(ascending=False)\n",
    "count_filtered_groups = filtered_groups.count()\n",
    "filtered_groups.index, count_filtered_groups"
   ]
  },
  {
   "cell_type": "markdown",
   "metadata": {},
   "source": [
    "Воспользуемся однофакторным дисперсионным анализом.  \n",
    "Нулевая гипотеза H₀ звучит так:  \n",
    "*Для всех крупных брендов рейтинг будет примерно одинаковый. Бренд на рейтинг не влияет.*"
   ]
  },
  {
   "cell_type": "code",
   "execution_count": null,
   "metadata": {},
   "outputs": [
    {
     "data": {
      "text/plain": [
       "('критерий Фишера: 2.477924131801446', 'p-value: 0.013572147259980974')"
      ]
     },
     "execution_count": 12886,
     "metadata": {},
     "output_type": "execute_result"
    }
   ],
   "source": [
    "top_9_companies = list(filtered_groups.index)\n",
    "# Фильтруем данные, оставляя строки только с компаниями из топ-9\n",
    "df_9_companies = df[df['company'].isin(top_9_companies)]\n",
    "# Разбиваем на группы по брэндам (groups — это список серий)\n",
    "groups = []\n",
    "for brand in top_9_companies:\n",
    "    group = df_9_companies[df_9_companies['company'] == brand]['rating']  # Берем рейтинг для бренда\n",
    "    groups.append(group)  # Добавляем в список\n",
    "\n",
    "# Выполняем анализ\n",
    "f_stat, p_value = stats.f_oneway(*groups)\n",
    "f\"критерий Фишера: {f_stat}\", f\"p-value: {p_value}\""
   ]
  },
  {
   "cell_type": "markdown",
   "metadata": {},
   "source": [
    "p_value < 0.05, различия значимые, отклоняем H₀ → бренд влияет на рейтинг (разные компании имеют разные рейтинги). \n",
    "\n",
    "**Вывод:**  \n",
    "От компании к компании средний рейтинг шоколадных батончиков меняется. Иными словами, то, какая у батончика компания, влияет на его рейтинг.  \n",
    "Фактор \"компания\" не будет включаться в финальную модель, поскольку различия в средних рейтингах между компаниями естественны. К тому же, производитель, стремясь улучшить батончик, вряд ли будет менять саму компанию."
   ]
  },
  {
   "cell_type": "markdown",
   "metadata": {},
   "source": [
    "#### 3.1-2 Влияние количества выпускаемых компанией батончиков на рейтинг <a id=\"num-rating\"></a> \n",
    "Разобъем все компании на 3 категории:  \n",
    "* one_bar - компания выпускает только 1 батончик  \n",
    "* mid - компания выпускает от 2 до 20 батончиков  \n",
    "* top_9 - компания выпускает больше 20 батончиков  "
   ]
  },
  {
   "cell_type": "markdown",
   "metadata": {},
   "source": [
    " Создадим новый столбец и запишем туда категорию:"
   ]
  },
  {
   "cell_type": "code",
   "execution_count": null,
   "metadata": {},
   "outputs": [
    {
     "data": {
      "text/html": [
       "<div>\n",
       "<style scoped>\n",
       "    .dataframe tbody tr th:only-of-type {\n",
       "        vertical-align: middle;\n",
       "    }\n",
       "\n",
       "    .dataframe tbody tr th {\n",
       "        vertical-align: top;\n",
       "    }\n",
       "\n",
       "    .dataframe thead th {\n",
       "        text-align: right;\n",
       "    }\n",
       "</style>\n",
       "<table border=\"1\" class=\"dataframe\">\n",
       "  <thead>\n",
       "    <tr style=\"text-align: right;\">\n",
       "      <th></th>\n",
       "      <th>company</th>\n",
       "      <th>species</th>\n",
       "      <th>REF</th>\n",
       "      <th>review_year</th>\n",
       "      <th>cocoa_percentage</th>\n",
       "      <th>company_location</th>\n",
       "      <th>rating</th>\n",
       "      <th>bean_type</th>\n",
       "      <th>country</th>\n",
       "      <th>continent</th>\n",
       "      <th>company_cat</th>\n",
       "    </tr>\n",
       "  </thead>\n",
       "  <tbody>\n",
       "    <tr>\n",
       "      <th>0</th>\n",
       "      <td>A. Morin</td>\n",
       "      <td>Agua Grande</td>\n",
       "      <td>1876</td>\n",
       "      <td>2016</td>\n",
       "      <td>0.63</td>\n",
       "      <td>France</td>\n",
       "      <td>3.75</td>\n",
       "      <td>NaN</td>\n",
       "      <td>Sao Tome</td>\n",
       "      <td>[Unknown]</td>\n",
       "      <td>top_9</td>\n",
       "    </tr>\n",
       "    <tr>\n",
       "      <th>1</th>\n",
       "      <td>A. Morin</td>\n",
       "      <td>Kpime</td>\n",
       "      <td>1676</td>\n",
       "      <td>2015</td>\n",
       "      <td>0.70</td>\n",
       "      <td>France</td>\n",
       "      <td>2.75</td>\n",
       "      <td>NaN</td>\n",
       "      <td>Togo</td>\n",
       "      <td>[Africa]</td>\n",
       "      <td>top_9</td>\n",
       "    </tr>\n",
       "    <tr>\n",
       "      <th>2</th>\n",
       "      <td>A. Morin</td>\n",
       "      <td>Atsane</td>\n",
       "      <td>1676</td>\n",
       "      <td>2015</td>\n",
       "      <td>0.70</td>\n",
       "      <td>France</td>\n",
       "      <td>3.00</td>\n",
       "      <td>NaN</td>\n",
       "      <td>Togo</td>\n",
       "      <td>[Africa]</td>\n",
       "      <td>top_9</td>\n",
       "    </tr>\n",
       "    <tr>\n",
       "      <th>3</th>\n",
       "      <td>A. Morin</td>\n",
       "      <td>Akata</td>\n",
       "      <td>1680</td>\n",
       "      <td>2015</td>\n",
       "      <td>0.70</td>\n",
       "      <td>France</td>\n",
       "      <td>3.50</td>\n",
       "      <td>NaN</td>\n",
       "      <td>Togo</td>\n",
       "      <td>[Africa]</td>\n",
       "      <td>top_9</td>\n",
       "    </tr>\n",
       "    <tr>\n",
       "      <th>4</th>\n",
       "      <td>A. Morin</td>\n",
       "      <td>Quilla</td>\n",
       "      <td>1704</td>\n",
       "      <td>2015</td>\n",
       "      <td>0.70</td>\n",
       "      <td>France</td>\n",
       "      <td>3.50</td>\n",
       "      <td>NaN</td>\n",
       "      <td>Peru</td>\n",
       "      <td>[South America]</td>\n",
       "      <td>top_9</td>\n",
       "    </tr>\n",
       "  </tbody>\n",
       "</table>\n",
       "</div>"
      ],
      "text/plain": [
       "    company      species   REF  review_year  cocoa_percentage  \\\n",
       "0  A. Morin  Agua Grande  1876         2016              0.63   \n",
       "1  A. Morin        Kpime  1676         2015              0.70   \n",
       "2  A. Morin       Atsane  1676         2015              0.70   \n",
       "3  A. Morin        Akata  1680         2015              0.70   \n",
       "4  A. Morin       Quilla  1704         2015              0.70   \n",
       "\n",
       "  company_location  rating bean_type   country        continent company_cat  \n",
       "0           France    3.75       NaN  Sao Tome        [Unknown]       top_9  \n",
       "1           France    2.75       NaN      Togo         [Africa]       top_9  \n",
       "2           France    3.00       NaN      Togo         [Africa]       top_9  \n",
       "3           France    3.50       NaN      Togo         [Africa]       top_9  \n",
       "4           France    3.50       NaN      Peru  [South America]       top_9  "
      ]
     },
     "execution_count": 12887,
     "metadata": {},
     "output_type": "execute_result"
    }
   ],
   "source": [
    "# Считаем количество батончиков для каждой компании\n",
    "company_counts = df['company'].value_counts()\n",
    "\n",
    "# Функция для присвоения категории\n",
    "def assign_category(company):\n",
    "    count = company_counts.get(company, 0)\n",
    "    if count == 1:\n",
    "        return 'one_bar'\n",
    "    elif 2 <= count <= 20:\n",
    "        return 'mid'\n",
    "    elif count > 20:\n",
    "        return 'top_9'\n",
    "    else:\n",
    "        return 'unknown'  # если компании нет\n",
    "\n",
    "# Создаем новый столбец\n",
    "df['company_cat'] = df['company'].apply(assign_category)\n",
    "df.head(5)"
   ]
  },
  {
   "cell_type": "markdown",
   "metadata": {},
   "source": [
    "Вновь воспользуемся однофакторным дисперсионным анализом.  \n",
    "Нулевая гипотеза H₀:  \n",
    "*Для всех категорий компаний рейтинг будет примерно одинаковый. Категория на рейтинг не влияет.*"
   ]
  },
  {
   "cell_type": "code",
   "execution_count": null,
   "metadata": {},
   "outputs": [
    {
     "data": {
      "text/plain": [
       "('критерий Фишера: 38.21017055078147', 'p-value: 5.618534808921667e-17')"
      ]
     },
     "execution_count": 12888,
     "metadata": {},
     "output_type": "execute_result"
    }
   ],
   "source": [
    "categories = df['company_cat'].unique()\n",
    "# Разбиваем на группы по категориям\n",
    "groups = []\n",
    "for category in categories:\n",
    "    group = df[df['company_cat'] == category]['rating']  # Берем рейтинг для категории\n",
    "    groups.append(group)  # Добавляем в список\n",
    "\n",
    "#Выполняем анализ\n",
    "f_stat, p_value = stats.f_oneway(*groups)\n",
    "f\"критерий Фишера: {f_stat}\", f\"p-value: {p_value}\""
   ]
  },
  {
   "cell_type": "markdown",
   "metadata": {},
   "source": [
    "p-value >= 0.05, различий между группами нет, принимаем H₀ → категория на рейтинг не влияет."
   ]
  },
  {
   "cell_type": "markdown",
   "metadata": {},
   "source": [
    "**Вывод:**  \n",
    "Количество выпускаемых компанией батончиков на рейтинг не влияет.  \n",
    "<br>"
   ]
  },
  {
   "cell_type": "markdown",
   "metadata": {},
   "source": [
    "### 3.2 Влияние вида шоколада на рейтинг <a id=\"species-rating\"></a> "
   ]
  },
  {
   "cell_type": "markdown",
   "metadata": {},
   "source": [
    "Рассмотрим, влияет ли вид шоколада на рейтинг батончиков.  \n",
    "Будем учитывать только 5 самых популярных видов шоколада:"
   ]
  },
  {
   "cell_type": "code",
   "execution_count": null,
   "metadata": {},
   "outputs": [
    {
     "data": {
      "text/plain": [
       "species\n",
       "Madagascar            57\n",
       "Peru                  45\n",
       "Ecuador               42\n",
       "Dominican Republic    37\n",
       "Venezuela             21\n",
       "Name: count, dtype: int64"
      ]
     },
     "execution_count": 12889,
     "metadata": {},
     "output_type": "execute_result"
    }
   ],
   "source": [
    "grouped = df['species'].value_counts()\n",
    "filtered_species = grouped[grouped >= 20]\n",
    "filtered_species"
   ]
  },
  {
   "cell_type": "markdown",
   "metadata": {},
   "source": [
    "Нулевая гипотеза H₀ для однофакторного дисперсионного анализа:  \n",
    "*Для всех популярных видов шоколада рейтинг будет примерно одинаковый. Вид шоколада на рейтинг не влияет.*"
   ]
  },
  {
   "cell_type": "code",
   "execution_count": null,
   "metadata": {},
   "outputs": [
    {
     "data": {
      "text/plain": [
       "('критерий Фишера: 4.048685303461329', 'p-value: 0.0035395792730588036')"
      ]
     },
     "execution_count": 12890,
     "metadata": {},
     "output_type": "execute_result"
    }
   ],
   "source": [
    "pop_species = list(filtered_species.index)\n",
    "# Фильтруем данные, оставляя строки только с популярными видами шоколада\n",
    "df_pop_species = df[df['species'].isin(pop_species)]\n",
    "# Разбиваем на группы по видам шоколада\n",
    "groups = []\n",
    "for species in pop_species:\n",
    "    group = df_pop_species[df_pop_species['species'] == species]['rating']  # Берем рейтинг для вида шоколада\n",
    "    groups.append(group)  # Добавляем в список\n",
    "\n",
    "#Выполняем анализ\n",
    "f_stat, p_value = stats.f_oneway(*groups)\n",
    "f\"критерий Фишера: {f_stat}\", f\"p-value: {p_value}\""
   ]
  },
  {
   "cell_type": "markdown",
   "metadata": {},
   "source": [
    "p_value < 0.05, различия значимые, отклоняем H₀ → вид шоколада влияет на рейтинг.  \n",
    "<br>\n",
    "**Вывод:**  \n",
    "Вид шоколада оказывает влияние на рейтинг батончиков.  \n",
    "<br>"
   ]
  },
  {
   "cell_type": "markdown",
   "metadata": {},
   "source": [
    "### 3.3 Регионы, где производят лучшие батончики. Влияние крупных стран-производителей на рейтинг <a id=\"comploc-rating\"></a>     \n",
    "Узнаем, в каких регионах производят батончики с самым высоким рейтингом, а также, влияет ли место производства на рейтинг. "
   ]
  },
  {
   "cell_type": "markdown",
   "metadata": {},
   "source": [
    "#### 3.3-1 Где производят лучшие батончики <a id=\"best-beans-manufacturer\"></a>  "
   ]
  },
  {
   "cell_type": "markdown",
   "metadata": {},
   "source": [
    "Рассмотрим два аспекта: определим страну с самыми высокооцененными батончиками, а также страну с наибольшим средним рейтингом среди всех произведенных батончиков.   \n",
    "Чтобы узнать страну-производителя лучших батончиков, отсортируем таблицу по рейтингу:"
   ]
  },
  {
   "cell_type": "code",
   "execution_count": null,
   "metadata": {},
   "outputs": [
    {
     "data": {
      "text/html": [
       "<div>\n",
       "<style scoped>\n",
       "    .dataframe tbody tr th:only-of-type {\n",
       "        vertical-align: middle;\n",
       "    }\n",
       "\n",
       "    .dataframe tbody tr th {\n",
       "        vertical-align: top;\n",
       "    }\n",
       "\n",
       "    .dataframe thead th {\n",
       "        text-align: right;\n",
       "    }\n",
       "</style>\n",
       "<table border=\"1\" class=\"dataframe\">\n",
       "  <thead>\n",
       "    <tr style=\"text-align: right;\">\n",
       "      <th></th>\n",
       "      <th>company</th>\n",
       "      <th>species</th>\n",
       "      <th>REF</th>\n",
       "      <th>review_year</th>\n",
       "      <th>cocoa_percentage</th>\n",
       "      <th>company_location</th>\n",
       "      <th>rating</th>\n",
       "      <th>bean_type</th>\n",
       "      <th>country</th>\n",
       "      <th>continent</th>\n",
       "      <th>company_cat</th>\n",
       "    </tr>\n",
       "  </thead>\n",
       "  <tbody>\n",
       "    <tr>\n",
       "      <th>86</th>\n",
       "      <td>Amedei</td>\n",
       "      <td>Toscano Black</td>\n",
       "      <td>40</td>\n",
       "      <td>2006</td>\n",
       "      <td>0.70</td>\n",
       "      <td>Italy</td>\n",
       "      <td>5.0</td>\n",
       "      <td>Blend</td>\n",
       "      <td>Unknown</td>\n",
       "      <td>[Unknown]</td>\n",
       "      <td>mid</td>\n",
       "    </tr>\n",
       "    <tr>\n",
       "      <th>78</th>\n",
       "      <td>Amedei</td>\n",
       "      <td>Chuao</td>\n",
       "      <td>111</td>\n",
       "      <td>2007</td>\n",
       "      <td>0.70</td>\n",
       "      <td>Italy</td>\n",
       "      <td>5.0</td>\n",
       "      <td>Trinitario</td>\n",
       "      <td>Venezuela</td>\n",
       "      <td>[South America]</td>\n",
       "      <td>mid</td>\n",
       "    </tr>\n",
       "    <tr>\n",
       "      <th>17</th>\n",
       "      <td>A. Morin</td>\n",
       "      <td>Chuao</td>\n",
       "      <td>1015</td>\n",
       "      <td>2013</td>\n",
       "      <td>0.70</td>\n",
       "      <td>France</td>\n",
       "      <td>4.0</td>\n",
       "      <td>Trinitario</td>\n",
       "      <td>Venezuela</td>\n",
       "      <td>[South America]</td>\n",
       "      <td>top_9</td>\n",
       "    </tr>\n",
       "    <tr>\n",
       "      <th>436</th>\n",
       "      <td>Claudio Corallo</td>\n",
       "      <td>Terreiro Velho P.</td>\n",
       "      <td>227</td>\n",
       "      <td>2008</td>\n",
       "      <td>0.75</td>\n",
       "      <td>Sao Tome</td>\n",
       "      <td>4.0</td>\n",
       "      <td>Forastero</td>\n",
       "      <td>Sao Tome &amp; Principe</td>\n",
       "      <td>[Africa, Unknown]</td>\n",
       "      <td>mid</td>\n",
       "    </tr>\n",
       "    <tr>\n",
       "      <th>311</th>\n",
       "      <td>Cacao Sampaka</td>\n",
       "      <td>Papua</td>\n",
       "      <td>523</td>\n",
       "      <td>2010</td>\n",
       "      <td>0.71</td>\n",
       "      <td>Spain</td>\n",
       "      <td>4.0</td>\n",
       "      <td>NaN</td>\n",
       "      <td>Papua New Guinea</td>\n",
       "      <td>[Unknown]</td>\n",
       "      <td>mid</td>\n",
       "    </tr>\n",
       "  </tbody>\n",
       "</table>\n",
       "</div>"
      ],
      "text/plain": [
       "             company            species   REF  review_year  cocoa_percentage  \\\n",
       "86            Amedei      Toscano Black    40         2006              0.70   \n",
       "78            Amedei              Chuao   111         2007              0.70   \n",
       "17          A. Morin              Chuao  1015         2013              0.70   \n",
       "436  Claudio Corallo  Terreiro Velho P.   227         2008              0.75   \n",
       "311    Cacao Sampaka              Papua   523         2010              0.71   \n",
       "\n",
       "    company_location  rating   bean_type              country  \\\n",
       "86             Italy     5.0       Blend              Unknown   \n",
       "78             Italy     5.0  Trinitario            Venezuela   \n",
       "17            France     4.0  Trinitario            Venezuela   \n",
       "436         Sao Tome     4.0   Forastero  Sao Tome & Principe   \n",
       "311            Spain     4.0         NaN     Papua New Guinea   \n",
       "\n",
       "             continent company_cat  \n",
       "86           [Unknown]         mid  \n",
       "78     [South America]         mid  \n",
       "17     [South America]       top_9  \n",
       "436  [Africa, Unknown]         mid  \n",
       "311          [Unknown]         mid  "
      ]
     },
     "execution_count": 12891,
     "metadata": {},
     "output_type": "execute_result"
    }
   ],
   "source": [
    "df.sort_values(by=\"rating\", ascending=False).head()"
   ]
  },
  {
   "cell_type": "markdown",
   "metadata": {},
   "source": [
    "Лучшие батончики производят в Италии."
   ]
  },
  {
   "cell_type": "markdown",
   "metadata": {},
   "source": [
    "Теперь посчитаем средний рейтинг:"
   ]
  },
  {
   "cell_type": "code",
   "execution_count": null,
   "metadata": {},
   "outputs": [
    {
     "data": {
      "text/html": [
       "<div>\n",
       "<style scoped>\n",
       "    .dataframe tbody tr th:only-of-type {\n",
       "        vertical-align: middle;\n",
       "    }\n",
       "\n",
       "    .dataframe tbody tr th {\n",
       "        vertical-align: top;\n",
       "    }\n",
       "\n",
       "    .dataframe thead th {\n",
       "        text-align: right;\n",
       "    }\n",
       "</style>\n",
       "<table border=\"1\" class=\"dataframe\">\n",
       "  <thead>\n",
       "    <tr style=\"text-align: right;\">\n",
       "      <th></th>\n",
       "      <th>company_location</th>\n",
       "      <th>rating</th>\n",
       "    </tr>\n",
       "  </thead>\n",
       "  <tbody>\n",
       "    <tr>\n",
       "      <th>7</th>\n",
       "      <td>Chile</td>\n",
       "      <td>3.750000</td>\n",
       "    </tr>\n",
       "    <tr>\n",
       "      <th>33</th>\n",
       "      <td>Netherlands</td>\n",
       "      <td>3.500000</td>\n",
       "    </tr>\n",
       "    <tr>\n",
       "      <th>37</th>\n",
       "      <td>Philippines</td>\n",
       "      <td>3.500000</td>\n",
       "    </tr>\n",
       "    <tr>\n",
       "      <th>23</th>\n",
       "      <td>Iceland</td>\n",
       "      <td>3.416667</td>\n",
       "    </tr>\n",
       "    <tr>\n",
       "      <th>55</th>\n",
       "      <td>Vietnam</td>\n",
       "      <td>3.409091</td>\n",
       "    </tr>\n",
       "  </tbody>\n",
       "</table>\n",
       "</div>"
      ],
      "text/plain": [
       "   company_location    rating\n",
       "7             Chile  3.750000\n",
       "33      Netherlands  3.500000\n",
       "37      Philippines  3.500000\n",
       "23          Iceland  3.416667\n",
       "55          Vietnam  3.409091"
      ]
     },
     "execution_count": 12892,
     "metadata": {},
     "output_type": "execute_result"
    }
   ],
   "source": [
    "df.groupby(\"company_location\")[\"rating\"].mean().reset_index().sort_values(by=\"rating\", ascending=False).head()"
   ]
  },
  {
   "cell_type": "markdown",
   "metadata": {},
   "source": [
    "По рейтингу батончиков в среднем лучшие в Чили."
   ]
  },
  {
   "cell_type": "markdown",
   "metadata": {},
   "source": [
    "**Вывод:**  \n",
    "* Самые лучшие батончики производят в Италии.   \n",
    "* По средней оценке всех батончиков - лучшие в Чили."
   ]
  },
  {
   "cell_type": "markdown",
   "metadata": {},
   "source": [
    "#### 3.3-2 Влияние крупных стран-производителей на рейтинг"
   ]
  },
  {
   "cell_type": "markdown",
   "metadata": {},
   "source": [
    "Выясним, влияет ли страна-производитель на рейтинг.  \n",
    "Будем учитывать только те страны, где производится от 20 разных батончиков:"
   ]
  },
  {
   "cell_type": "code",
   "execution_count": null,
   "metadata": {},
   "outputs": [
    {
     "data": {
      "text/plain": [
       "['U.S.A.',\n",
       " 'France',\n",
       " 'Canada',\n",
       " 'U.K.',\n",
       " 'Italy',\n",
       " 'Ecuador',\n",
       " 'Australia',\n",
       " 'Belgium',\n",
       " 'Switzerland',\n",
       " 'Germany',\n",
       " 'Austria',\n",
       " 'Spain',\n",
       " 'Colombia',\n",
       " 'Hungary',\n",
       " 'Venezuela']"
      ]
     },
     "execution_count": 12893,
     "metadata": {},
     "output_type": "execute_result"
    }
   ],
   "source": [
    "locations = df[\"company_location\"].value_counts()\n",
    "top_locations = list(locations[locations >= 20].index)\n",
    "top_locations"
   ]
  },
  {
   "cell_type": "markdown",
   "metadata": {},
   "source": [
    "Нулевая гипотеза H₀ для однофакторного дисперсионного анализа:  \n",
    "*Для каждой крупной страны-производителя рейтинг будет примерно одинаковый. Страна-производитель на рейтинг не влияет.*"
   ]
  },
  {
   "cell_type": "code",
   "execution_count": null,
   "metadata": {},
   "outputs": [
    {
     "data": {
      "text/plain": [
       "('критерий Фишера: 3.5360645856476807', 'p-value: 9.290650393401614e-06')"
      ]
     },
     "execution_count": 12894,
     "metadata": {},
     "output_type": "execute_result"
    }
   ],
   "source": [
    "# Фильтруем данные\n",
    "df_top_locations = df[df[\"company_location\"].isin(top_locations)]\n",
    "\n",
    "# Разбиваем на группы по крупным странам-производителям\n",
    "groups = []\n",
    "for location in top_locations:\n",
    "    group = df_top_locations[df_top_locations['company_location'] == location]['rating']  \n",
    "    groups.append(group)  \n",
    "\n",
    "#Проводим анализ\n",
    "f_stat, p_value = stats.f_oneway(*groups)\n",
    "f\"критерий Фишера: {f_stat}\", f\"p-value: {p_value}\""
   ]
  },
  {
   "cell_type": "markdown",
   "metadata": {},
   "source": [
    "p-value >= 0.05, различий между группами нет, принимаем H₀ → страна-производитель на рейтинг не влияет.  \n",
    "\n",
    "**Вывод:**   \n",
    "Страна, где производятся шоколадные батончики, на их рейтинг не влияет.  \n",
    "<br>   "
   ]
  },
  {
   "cell_type": "markdown",
   "metadata": {},
   "source": [
    "### 3.4 Где растут лучшие какао-бобы. Влияние места произрастания бобов на рейтинг <a id=\"continent-rating\"></a> \n",
    "Выясним, где растут лучшие какао бобы и есть ли связь между местом произрастания бобов и рейтингом."
   ]
  },
  {
   "cell_type": "markdown",
   "metadata": {},
   "source": [
    "#### 3.4-1 Где растут лучшие какао-бобы <a id=\"where-best-beans-grow\"></a>  "
   ]
  },
  {
   "cell_type": "markdown",
   "metadata": {},
   "source": [
    "Чтобы узнать место произрастания лучших бобов, пойдем тремя путями:\n",
    "1. Найдем континент, где был произведен шоколад с лучшим рейтингом.\n",
    "2. Посчитаем средний рейтинг шоколада для каждого из континентов и найдем континент с лучшим средним рейтингом.\n",
    "3. Найдем континент по среднему рейтингу, учитывая количество измерений."
   ]
  },
  {
   "cell_type": "markdown",
   "metadata": {},
   "source": [
    "Ищем континент, где был произведен шоколад с лучшим рейтингом:"
   ]
  },
  {
   "cell_type": "code",
   "execution_count": null,
   "metadata": {},
   "outputs": [
    {
     "data": {
      "text/html": [
       "<div>\n",
       "<style scoped>\n",
       "    .dataframe tbody tr th:only-of-type {\n",
       "        vertical-align: middle;\n",
       "    }\n",
       "\n",
       "    .dataframe tbody tr th {\n",
       "        vertical-align: top;\n",
       "    }\n",
       "\n",
       "    .dataframe thead th {\n",
       "        text-align: right;\n",
       "    }\n",
       "</style>\n",
       "<table border=\"1\" class=\"dataframe\">\n",
       "  <thead>\n",
       "    <tr style=\"text-align: right;\">\n",
       "      <th></th>\n",
       "      <th>company</th>\n",
       "      <th>species</th>\n",
       "      <th>REF</th>\n",
       "      <th>review_year</th>\n",
       "      <th>cocoa_percentage</th>\n",
       "      <th>company_location</th>\n",
       "      <th>rating</th>\n",
       "      <th>bean_type</th>\n",
       "      <th>country</th>\n",
       "      <th>continent</th>\n",
       "      <th>company_cat</th>\n",
       "    </tr>\n",
       "  </thead>\n",
       "  <tbody>\n",
       "    <tr>\n",
       "      <th>86</th>\n",
       "      <td>Amedei</td>\n",
       "      <td>Toscano Black</td>\n",
       "      <td>40</td>\n",
       "      <td>2006</td>\n",
       "      <td>0.70</td>\n",
       "      <td>Italy</td>\n",
       "      <td>5.0</td>\n",
       "      <td>Blend</td>\n",
       "      <td>Unknown</td>\n",
       "      <td>[Unknown]</td>\n",
       "      <td>mid</td>\n",
       "    </tr>\n",
       "    <tr>\n",
       "      <th>78</th>\n",
       "      <td>Amedei</td>\n",
       "      <td>Chuao</td>\n",
       "      <td>111</td>\n",
       "      <td>2007</td>\n",
       "      <td>0.70</td>\n",
       "      <td>Italy</td>\n",
       "      <td>5.0</td>\n",
       "      <td>Trinitario</td>\n",
       "      <td>Venezuela</td>\n",
       "      <td>[South America]</td>\n",
       "      <td>mid</td>\n",
       "    </tr>\n",
       "    <tr>\n",
       "      <th>17</th>\n",
       "      <td>A. Morin</td>\n",
       "      <td>Chuao</td>\n",
       "      <td>1015</td>\n",
       "      <td>2013</td>\n",
       "      <td>0.70</td>\n",
       "      <td>France</td>\n",
       "      <td>4.0</td>\n",
       "      <td>Trinitario</td>\n",
       "      <td>Venezuela</td>\n",
       "      <td>[South America]</td>\n",
       "      <td>top_9</td>\n",
       "    </tr>\n",
       "    <tr>\n",
       "      <th>436</th>\n",
       "      <td>Claudio Corallo</td>\n",
       "      <td>Terreiro Velho P.</td>\n",
       "      <td>227</td>\n",
       "      <td>2008</td>\n",
       "      <td>0.75</td>\n",
       "      <td>Sao Tome</td>\n",
       "      <td>4.0</td>\n",
       "      <td>Forastero</td>\n",
       "      <td>Sao Tome &amp; Principe</td>\n",
       "      <td>[Africa, Unknown]</td>\n",
       "      <td>mid</td>\n",
       "    </tr>\n",
       "    <tr>\n",
       "      <th>311</th>\n",
       "      <td>Cacao Sampaka</td>\n",
       "      <td>Papua</td>\n",
       "      <td>523</td>\n",
       "      <td>2010</td>\n",
       "      <td>0.71</td>\n",
       "      <td>Spain</td>\n",
       "      <td>4.0</td>\n",
       "      <td>NaN</td>\n",
       "      <td>Papua New Guinea</td>\n",
       "      <td>[Unknown]</td>\n",
       "      <td>mid</td>\n",
       "    </tr>\n",
       "  </tbody>\n",
       "</table>\n",
       "</div>"
      ],
      "text/plain": [
       "             company            species   REF  review_year  cocoa_percentage  \\\n",
       "86            Amedei      Toscano Black    40         2006              0.70   \n",
       "78            Amedei              Chuao   111         2007              0.70   \n",
       "17          A. Morin              Chuao  1015         2013              0.70   \n",
       "436  Claudio Corallo  Terreiro Velho P.   227         2008              0.75   \n",
       "311    Cacao Sampaka              Papua   523         2010              0.71   \n",
       "\n",
       "    company_location  rating   bean_type              country  \\\n",
       "86             Italy     5.0       Blend              Unknown   \n",
       "78             Italy     5.0  Trinitario            Venezuela   \n",
       "17            France     4.0  Trinitario            Venezuela   \n",
       "436         Sao Tome     4.0   Forastero  Sao Tome & Principe   \n",
       "311            Spain     4.0         NaN     Papua New Guinea   \n",
       "\n",
       "             continent company_cat  \n",
       "86           [Unknown]         mid  \n",
       "78     [South America]         mid  \n",
       "17     [South America]       top_9  \n",
       "436  [Africa, Unknown]         mid  \n",
       "311          [Unknown]         mid  "
      ]
     },
     "execution_count": 12895,
     "metadata": {},
     "output_type": "execute_result"
    }
   ],
   "source": [
    "df = df.sort_values(by=\"rating\", ascending=False)\n",
    "df.head()\n"
   ]
  },
  {
   "cell_type": "markdown",
   "metadata": {},
   "source": [
    "Первое место делят 2 шоколада: у одного из них место произрастания неизвестно, а у другого - Венесуэла, континент Южная Америка."
   ]
  },
  {
   "cell_type": "markdown",
   "metadata": {},
   "source": [
    "Посчитаем средний рейтинг шоколада для каждого из континентов:"
   ]
  },
  {
   "cell_type": "code",
   "execution_count": null,
   "metadata": {},
   "outputs": [
    {
     "data": {
      "text/html": [
       "<div>\n",
       "<style scoped>\n",
       "    .dataframe tbody tr th:only-of-type {\n",
       "        vertical-align: middle;\n",
       "    }\n",
       "\n",
       "    .dataframe tbody tr th {\n",
       "        vertical-align: top;\n",
       "    }\n",
       "\n",
       "    .dataframe thead th {\n",
       "        text-align: right;\n",
       "    }\n",
       "</style>\n",
       "<table border=\"1\" class=\"dataframe\">\n",
       "  <thead>\n",
       "    <tr style=\"text-align: right;\">\n",
       "      <th></th>\n",
       "      <th>continent</th>\n",
       "      <th>average_rating</th>\n",
       "    </tr>\n",
       "  </thead>\n",
       "  <tbody>\n",
       "    <tr>\n",
       "      <th>4</th>\n",
       "      <td>Oceania</td>\n",
       "      <td>3.280000</td>\n",
       "    </tr>\n",
       "    <tr>\n",
       "      <th>1</th>\n",
       "      <td>Asia</td>\n",
       "      <td>3.270833</td>\n",
       "    </tr>\n",
       "    <tr>\n",
       "      <th>3</th>\n",
       "      <td>Central America</td>\n",
       "      <td>3.210046</td>\n",
       "    </tr>\n",
       "    <tr>\n",
       "      <th>0</th>\n",
       "      <td>Africa</td>\n",
       "      <td>3.200549</td>\n",
       "    </tr>\n",
       "    <tr>\n",
       "      <th>5</th>\n",
       "      <td>South America</td>\n",
       "      <td>3.193272</td>\n",
       "    </tr>\n",
       "    <tr>\n",
       "      <th>2</th>\n",
       "      <td>Caribbean</td>\n",
       "      <td>3.185897</td>\n",
       "    </tr>\n",
       "    <tr>\n",
       "      <th>6</th>\n",
       "      <td>Unknown</td>\n",
       "      <td>3.142949</td>\n",
       "    </tr>\n",
       "  </tbody>\n",
       "</table>\n",
       "</div>"
      ],
      "text/plain": [
       "         continent  average_rating\n",
       "4          Oceania        3.280000\n",
       "1             Asia        3.270833\n",
       "3  Central America        3.210046\n",
       "0           Africa        3.200549\n",
       "5    South America        3.193272\n",
       "2        Caribbean        3.185897\n",
       "6          Unknown        3.142949"
      ]
     },
     "execution_count": 12896,
     "metadata": {},
     "output_type": "execute_result"
    }
   ],
   "source": [
    "# Разбиваем строки с массивами на отдельные строки\n",
    "df_expanded = df.explode('continent').reset_index(drop=True)\n",
    "df_expanded['continent'] = df_expanded['continent'].astype(str)\n",
    "\n",
    "# Группируем по 'continents' и считаем средний рейтинг\n",
    "average_rating = df_expanded.groupby('continent')['rating'].mean().reset_index()\n",
    "\n",
    "average_rating.columns = ['continent', 'average_rating']\n",
    "average_rating.sort_values(\"average_rating\", ascending=False)"
   ]
  },
  {
   "cell_type": "markdown",
   "metadata": {},
   "source": [
    "По среднему рейтингу бобы лучшего шоколада растут в Океании (Австралия, прилегающие к ней острова и Океания). Однако видно, что средние рейтинги для всех континентов примерно равны."
   ]
  },
  {
   "cell_type": "markdown",
   "metadata": {},
   "source": [
    "Учтем количество измерений для среднего рейтинга:"
   ]
  },
  {
   "cell_type": "code",
   "execution_count": null,
   "metadata": {},
   "outputs": [
    {
     "data": {
      "text/html": [
       "<div>\n",
       "<style scoped>\n",
       "    .dataframe tbody tr th:only-of-type {\n",
       "        vertical-align: middle;\n",
       "    }\n",
       "\n",
       "    .dataframe tbody tr th {\n",
       "        vertical-align: top;\n",
       "    }\n",
       "\n",
       "    .dataframe thead th {\n",
       "        text-align: right;\n",
       "    }\n",
       "</style>\n",
       "<table border=\"1\" class=\"dataframe\">\n",
       "  <thead>\n",
       "    <tr style=\"text-align: right;\">\n",
       "      <th></th>\n",
       "      <th>continent</th>\n",
       "      <th>average_rating</th>\n",
       "      <th>count</th>\n",
       "    </tr>\n",
       "  </thead>\n",
       "  <tbody>\n",
       "    <tr>\n",
       "      <th>4</th>\n",
       "      <td>Oceania</td>\n",
       "      <td>3.280000</td>\n",
       "      <td>25</td>\n",
       "    </tr>\n",
       "    <tr>\n",
       "      <th>1</th>\n",
       "      <td>Asia</td>\n",
       "      <td>3.270833</td>\n",
       "      <td>72</td>\n",
       "    </tr>\n",
       "    <tr>\n",
       "      <th>3</th>\n",
       "      <td>Central America</td>\n",
       "      <td>3.210046</td>\n",
       "      <td>219</td>\n",
       "    </tr>\n",
       "    <tr>\n",
       "      <th>0</th>\n",
       "      <td>Africa</td>\n",
       "      <td>3.200549</td>\n",
       "      <td>273</td>\n",
       "    </tr>\n",
       "    <tr>\n",
       "      <th>5</th>\n",
       "      <td>South America</td>\n",
       "      <td>3.193272</td>\n",
       "      <td>758</td>\n",
       "    </tr>\n",
       "    <tr>\n",
       "      <th>2</th>\n",
       "      <td>Caribbean</td>\n",
       "      <td>3.185897</td>\n",
       "      <td>117</td>\n",
       "    </tr>\n",
       "    <tr>\n",
       "      <th>6</th>\n",
       "      <td>Unknown</td>\n",
       "      <td>3.142949</td>\n",
       "      <td>390</td>\n",
       "    </tr>\n",
       "  </tbody>\n",
       "</table>\n",
       "</div>"
      ],
      "text/plain": [
       "         continent  average_rating  count\n",
       "4          Oceania        3.280000     25\n",
       "1             Asia        3.270833     72\n",
       "3  Central America        3.210046    219\n",
       "0           Africa        3.200549    273\n",
       "5    South America        3.193272    758\n",
       "2        Caribbean        3.185897    117\n",
       "6          Unknown        3.142949    390"
      ]
     },
     "execution_count": 12897,
     "metadata": {},
     "output_type": "execute_result"
    }
   ],
   "source": [
    "average_rating = df_expanded.groupby('continent').agg({'rating': ['mean', 'count']}).reset_index()\n",
    "average_rating.columns = ['continent', 'average_rating', 'count']\n",
    "average_rating.sort_values(\"average_rating\", ascending=False)"
   ]
  },
  {
   "cell_type": "markdown",
   "metadata": {},
   "source": [
    "Для расчетов среднего рейтинга Океании использовалось 25 измерений, что делает результаты достоверными."
   ]
  },
  {
   "cell_type": "markdown",
   "metadata": {},
   "source": [
    "**Вывод:**  \n",
    "* Бобы самого лучшего шоколада растут в Венесуэле (Южная Америка).  \n",
    "* По средней оценке всех батончиков лучшие бобы произрастают в Австралии и Океании.  "
   ]
  },
  {
   "cell_type": "markdown",
   "metadata": {},
   "source": [
    "#### 3.4-2 Влияние места произрастания бобов на рейтинг"
   ]
  },
  {
   "cell_type": "markdown",
   "metadata": {},
   "source": [
    "Рассмотрим, влияет ли контитент, где выращиваются какао-бобы, на рейтинг."
   ]
  },
  {
   "cell_type": "code",
   "execution_count": null,
   "metadata": {},
   "outputs": [
    {
     "data": {
      "text/plain": [
       "[['South America'],\n",
       " ['Africa'],\n",
       " ['Central America'],\n",
       " ['Caribbean'],\n",
       " ['Asia'],\n",
       " ['Oceania']]"
      ]
     },
     "execution_count": 12898,
     "metadata": {},
     "output_type": "execute_result"
    }
   ],
   "source": [
    "continents = df[\"continent\"].value_counts()\n",
    "frequent_continents = list(continents[(continents >= 20) & (continents.index.map(lambda x: x != [\"Unknown\"]))].index)\n",
    "frequent_continents"
   ]
  },
  {
   "cell_type": "markdown",
   "metadata": {},
   "source": [
    "Нулевая гипотеза H₀ для однофакторного дисперсионного анализа:  \n",
    "*Для каждого континента рейтинг будет примерно одинаковый. Континент выращивания какао-бобв на рейтинг не влияет.*"
   ]
  },
  {
   "cell_type": "code",
   "execution_count": null,
   "metadata": {},
   "outputs": [
    {
     "data": {
      "text/plain": [
       "('критерий Фишера: 0.3215588060442442', 'p-value: 0.9002069309676172')"
      ]
     },
     "execution_count": 12899,
     "metadata": {},
     "output_type": "execute_result"
    }
   ],
   "source": [
    "# Фильтруем данные, разбиваем на группы и проводим анализ\n",
    "df_fr_continents = df[df[\"continent\"].apply(tuple).isin(map(tuple, frequent_continents))]\n",
    "\n",
    "groups = []\n",
    "for continent in frequent_continents:\n",
    "    group = df_fr_continents[df_fr_continents[\"continent\"].apply(tuple) == tuple(continent)][\"rating\"]\n",
    "    groups.append(group)\n",
    "\n",
    "f_stat, p_value = stats.f_oneway(*groups)\n",
    "f\"критерий Фишера: {f_stat}\", f\"p-value: {p_value}\""
   ]
  },
  {
   "cell_type": "markdown",
   "metadata": {},
   "source": [
    "p-value >= 0.05, различий между группами нет, принимаем H₀ → континент, где выращиваются какао-бобы на рейтинг не влияет.  \n",
    "  \n",
    "**Вывод:** \n",
    "Место выращивания какао-бобов на рейтинг батончиков не влияет.  \n",
    "<br>  "
   ]
  },
  {
   "cell_type": "markdown",
   "metadata": {},
   "source": [
    "### 3.5 Влияние сорта какао-бобов на рейтинг <a id=\"bean-rating\"></a> "
   ]
  },
  {
   "cell_type": "markdown",
   "metadata": {},
   "source": [
    "Узнаем, влияет ли сорт какао-бобов, из которого изготавливали шоколадный батончик, на рейтинг.   \n",
    "Будем учитывать только популярные сорта, которые используются для 20 и более батончиков:"
   ]
  },
  {
   "cell_type": "code",
   "execution_count": null,
   "metadata": {},
   "outputs": [
    {
     "data": {
      "text/plain": [
       "['Trinitario',\n",
       " 'Criollo',\n",
       " 'Forastero',\n",
       " 'Forastero (Nacional)',\n",
       " 'Criollo, Trinitario',\n",
       " 'Blend',\n",
       " 'Forastero (Arriba)']"
      ]
     },
     "execution_count": 12900,
     "metadata": {},
     "output_type": "execute_result"
    }
   ],
   "source": [
    "beans = df[\"bean_type\"].value_counts()\n",
    "pop_beans = list(beans[beans >= 20].index)\n",
    "pop_beans"
   ]
  },
  {
   "cell_type": "markdown",
   "metadata": {},
   "source": [
    "Формируем нулевую гипотезу H₀:  \n",
    "*Для каждого сорта какао-бобов рейтинг будет примерно одинаковый. Сорт какао-бобов на рейтинг не влияет.*"
   ]
  },
  {
   "cell_type": "code",
   "execution_count": null,
   "metadata": {},
   "outputs": [
    {
     "data": {
      "text/plain": [
       "('критерий Фишера: 6.365963091638138', 'p-value: 1.44939359137511e-06')"
      ]
     },
     "execution_count": 12901,
     "metadata": {},
     "output_type": "execute_result"
    }
   ],
   "source": [
    "# Фильтруем данные, разбиваем на группы и проводим анализ\n",
    "df_pop_beans = df[df[\"bean_type\"].isin(pop_beans)] \n",
    "\n",
    "groups = []\n",
    "for bean in pop_beans:\n",
    "    group = df_pop_beans[df_pop_beans[\"bean_type\"] == bean][\"rating\"]\n",
    "    groups.append(group)\n",
    "\n",
    "f_stat, p_value = stats.f_oneway(*groups)\n",
    "f\"критерий Фишера: {f_stat}\", f\"p-value: {p_value}\""
   ]
  },
  {
   "cell_type": "markdown",
   "metadata": {},
   "source": [
    "p-value >= 0.05, различий между группами нет, принимаем H₀ → сорт какао-бобов на рейтинг батончиков не влияет.  \n",
    "  \n",
    "**Вывод:**   \n",
    "Сорт какао-бобов, из которых изготавливался батончик, на рейтинг не влияет.  \n",
    "<br>   "
   ]
  },
  {
   "cell_type": "markdown",
   "metadata": {},
   "source": [
    "### 3.6 Корреляция между процентным содержанием какао и рейтингом <a id=\"cocoa-rating-corr\"></a>  "
   ]
  },
  {
   "cell_type": "markdown",
   "metadata": {},
   "source": [
    "Узнаем, связано ли процентное содержание какао в шоколадном батончике с его рейтингом, а также силу и направление этой связи.  \n",
    "Вычисляем корреляцию между процентным содержанием какао и рейтингом:"
   ]
  },
  {
   "cell_type": "code",
   "execution_count": null,
   "metadata": {},
   "outputs": [
    {
     "data": {
      "text/plain": [
       "-0.16482017762424425"
      ]
     },
     "execution_count": 12902,
     "metadata": {},
     "output_type": "execute_result"
    }
   ],
   "source": [
    "float(df[\"cocoa_percentage\"].corr(df[\"rating\"]))"
   ]
  },
  {
   "cell_type": "markdown",
   "metadata": {},
   "source": [
    "Связь между процентным содержанием какао и рейтингом слабая отрицательная (корреляция -0.16), то есть при увеличении какао рейтинг шоколада падает и наоборот.  \n",
    "Чтобы удостовериться в полученных результатах, построим диаграмму рассеяния:"
   ]
  },
  {
   "cell_type": "code",
   "execution_count": null,
   "metadata": {},
   "outputs": [
    {
     "data": {
      "image/png": "[encoded data removed]",
      "text/plain": [
       "<Figure size 640x480 with 1 Axes>"
      ]
     },
     "metadata": {},
     "output_type": "display_data"
    }
   ],
   "source": [
    "plt.scatter(df['cocoa_percentage'], df['rating'], alpha=0.5, color=\"#9B0084\")\n",
    "plt.xlabel('Cocoa Percentage')\n",
    "plt.ylabel('Rating')\n",
    "plt.title('Cocoa Percentage vs Rating')\n",
    "plt.grid(True, linestyle='--', alpha=0.6)\n",
    "plt.show()"
   ]
  },
  {
   "cell_type": "markdown",
   "metadata": {},
   "source": [
    "Видно, что большинство данных соответствуют процентному содержанию какао от 0,55 до 0,9, при этом рейтинг соответсвует значениям от 2 до 4. Данных о баточниках с процентным содержанием меньше 0,5 немного. А вот для батончиков с содержанием какао около 1 достаточно, но рейтинг при этом разбросан от 1 до 3,5. \n",
    "\n",
    "\n",
    "**Вывод:**  \n",
    "* Четкой линии тренда не видно. \n",
    "* Слабая отрицательная связь говорит о том, что, высокий процент какао (около 1) иногда ассоциируется с чуть более низким рейтингом, но это не правило. \n",
    "* Плотность точек вокруг 0,7–0,75 с рейтингом 3 – 3,5 может намекать, что батончики со средним процентом какао чаще получают средние оценки.\n",
    "* Разброс рейтингов при одинаковом процентном содержании говорит о том, что на рейтинг влияют другие факторы и/или их взаимодействие.  \n",
    "<br>  "
   ]
  },
  {
   "cell_type": "markdown",
   "metadata": {},
   "source": [
    "### 3.7 Связь года публикации обзора и других показателей <a id=\"year-corr\"></a>  \n",
    "Проанализируем, как год публикации обзора влияет на рейтинг и какие тенденции можно проследить со временем."
   ]
  },
  {
   "cell_type": "markdown",
   "metadata": {},
   "source": [
    "#### 3.7-1 Влияние года публикации обзора на рейтинг\n",
    "\n",
    "Вновь воспользуемся однофакторным дисперсионным анализом. H₀:  \n",
    "*Для каждого года рейтинг будет примерно одинаковый. Год публикации обзора на рейтинг не влияет.*"
   ]
  },
  {
   "cell_type": "code",
   "execution_count": null,
   "metadata": {},
   "outputs": [
    {
     "data": {
      "text/plain": [
       "('критерий Фишера: 3.251270627282837', 'p-value: 0.00020492752425445773')"
      ]
     },
     "execution_count": 12904,
     "metadata": {},
     "output_type": "execute_result"
    }
   ],
   "source": [
    "years = df[\"review_year\"].unique()\n",
    "# разбиваем на группы по годам\n",
    "groups = []\n",
    "for year in years:\n",
    "    group = df[df[\"review_year\"] == year][\"rating\"] # Берем рейтинг для каждого года\n",
    "    groups.append(group) # Добавляем в список\n",
    "\n",
    "# Анализируем\n",
    "f_stat, p_value = stats.f_oneway(*groups)\n",
    "f\"критерий Фишера: {f_stat}\", f\"p-value: {p_value}\""
   ]
  },
  {
   "cell_type": "markdown",
   "metadata": {},
   "source": [
    "p_value < 0.05, различия значимые, отклоняем H₀ → год публикации обзора влияет на рейтинг.  \n",
    "   \n",
    "**Вывод:**  \n",
    "Год публикации обзора влияет на рейтинг шоколадных батончиков.\n",
    "  \n",
    "#### 3.7-2 Изменение среднего рейтинга с годами\n",
    "Изучим, как изменялся средний рейтинг шоколадных батончиков с течением времени.  \n",
    "Построим график среднего значения рейтинга по годам:"
   ]
  },
  {
   "cell_type": "code",
   "execution_count": null,
   "metadata": {},
   "outputs": [
    {
     "data": {
      "image/png": "[encoded data removed]",
      "text/plain": [
       "<Figure size 1000x600 with 1 Axes>"
      ]
     },
     "metadata": {},
     "output_type": "display_data"
    }
   ],
   "source": [
    "# Группируем по году и считаем среднее значение рейтинга\n",
    "yearly_rating = df.groupby(\"review_year\")['rating'].mean()\n",
    "\n",
    "# Строим график\n",
    "plt.figure(figsize=(10, 6))\n",
    "sns.lineplot(x=yearly_rating.index, y=yearly_rating.values, marker='o', color=\"#A9445C\")\n",
    "plt.title('Изменение среднего рейтинга шоколадных батончиков по годам')\n",
    "plt.xlabel('Год')\n",
    "plt.ylabel('Средний рейтинг')\n",
    "plt.grid(True)\n",
    "plt.show()\n"
   ]
  },
  {
   "cell_type": "markdown",
   "metadata": {},
   "source": [
    "Видно, что с каждым годом качество шоколада растет.  \n",
    "\n",
    "Заметен сильный спад рейтинга в 2008 году. Он может быть связан со следующими факторами:  \n",
    "1. Мировой финансовый кризис (началася в 2008 г). Компании могли начать экономить, например, заменять дорогие ингредиенты на более дешёвые.   \n",
    "2. Рост цен на какао из-за проблем с погодой и урожаями в странах-производителях (Кот-д’Ивуар, Гана). В рецептах могли снижать процент какао, чтобы сохранить прибыль.  \n",
    "\n",
    "В 2011 году рейтинг шоколада слегка подскочил. Возможные причины:\n",
    "1. Восстановление после кризиса. Компании могли вернуть часть прежних рецептов.  \n",
    "2. Рост спроса на премиум-шоколад. В начале 2010-х начался бум на качественные продукты, органику, натуральность. Малые производители стали активнее выходить на рынок с шоколадом высокого качества.  \n",
    "3. Стабилизировались урожаи какао в Западной Африке.  \n",
    "  \n",
    "**Вывод:**  \n",
    "Рейтинг шоколадных батончиков демонстрирует общий рост с каждым годом, однако наблюдаются колебания: спад в 2008 году и резкий подъем в 2011.  \n",
    "Важно исследовать возможные причины этих изменений, а также определить факторы, способствующие общему росту рейтинга.  \n",
    "   "
   ]
  },
  {
   "cell_type": "markdown",
   "metadata": {},
   "source": [
    "#### 3.7-3 Изменение рейтинга по годам для крупных компаний топ-9  \n",
    "Причина роста среднего рейтинга с годами может быть связана с компаниями. Это, например, работа над продвижением бренда, рецептурой батончиков и пр. В этом случае в компаниях будет также наблюдаться рост среднего рейтинга с годами. Проверим, так ли это. Будем учитывать только 9 крупных компаний, производящих 20 и более различных батончиков (топ-9).  "
   ]
  },
  {
   "cell_type": "code",
   "execution_count": null,
   "metadata": {},
   "outputs": [
    {
     "data": {
      "text/html": [
       "<div>\n",
       "<style scoped>\n",
       "    .dataframe tbody tr th:only-of-type {\n",
       "        vertical-align: middle;\n",
       "    }\n",
       "\n",
       "    .dataframe tbody tr th {\n",
       "        vertical-align: top;\n",
       "    }\n",
       "\n",
       "    .dataframe thead th {\n",
       "        text-align: right;\n",
       "    }\n",
       "</style>\n",
       "<table border=\"1\" class=\"dataframe\">\n",
       "  <thead>\n",
       "    <tr style=\"text-align: right;\">\n",
       "      <th>review_year</th>\n",
       "      <th>2006</th>\n",
       "      <th>2007</th>\n",
       "      <th>2008</th>\n",
       "      <th>2009</th>\n",
       "      <th>2010</th>\n",
       "      <th>2011</th>\n",
       "      <th>2012</th>\n",
       "      <th>2013</th>\n",
       "      <th>2014</th>\n",
       "      <th>2015</th>\n",
       "      <th>2016</th>\n",
       "    </tr>\n",
       "    <tr>\n",
       "      <th>company</th>\n",
       "      <th></th>\n",
       "      <th></th>\n",
       "      <th></th>\n",
       "      <th></th>\n",
       "      <th></th>\n",
       "      <th></th>\n",
       "      <th></th>\n",
       "      <th></th>\n",
       "      <th></th>\n",
       "      <th></th>\n",
       "      <th></th>\n",
       "    </tr>\n",
       "  </thead>\n",
       "  <tbody>\n",
       "    <tr>\n",
       "      <th>A. Morin</th>\n",
       "      <td>NaN</td>\n",
       "      <td>NaN</td>\n",
       "      <td>NaN</td>\n",
       "      <td>NaN</td>\n",
       "      <td>NaN</td>\n",
       "      <td>NaN</td>\n",
       "      <td>3.62500</td>\n",
       "      <td>3.318182</td>\n",
       "      <td>3.500000</td>\n",
       "      <td>3.1875</td>\n",
       "      <td>3.750000</td>\n",
       "    </tr>\n",
       "    <tr>\n",
       "      <th>Arete</th>\n",
       "      <td>NaN</td>\n",
       "      <td>NaN</td>\n",
       "      <td>NaN</td>\n",
       "      <td>NaN</td>\n",
       "      <td>NaN</td>\n",
       "      <td>NaN</td>\n",
       "      <td>NaN</td>\n",
       "      <td>NaN</td>\n",
       "      <td>NaN</td>\n",
       "      <td>3.5000</td>\n",
       "      <td>3.557692</td>\n",
       "    </tr>\n",
       "    <tr>\n",
       "      <th>Bonnat</th>\n",
       "      <td>3.464286</td>\n",
       "      <td>2.500000</td>\n",
       "      <td>4.000000</td>\n",
       "      <td>2.937500</td>\n",
       "      <td>NaN</td>\n",
       "      <td>3.625000</td>\n",
       "      <td>NaN</td>\n",
       "      <td>3.375000</td>\n",
       "      <td>3.666667</td>\n",
       "      <td>NaN</td>\n",
       "      <td>3.500000</td>\n",
       "    </tr>\n",
       "    <tr>\n",
       "      <th>Domori</th>\n",
       "      <td>3.250000</td>\n",
       "      <td>3.656250</td>\n",
       "      <td>3.312500</td>\n",
       "      <td>NaN</td>\n",
       "      <td>3.00</td>\n",
       "      <td>3.500000</td>\n",
       "      <td>3.62500</td>\n",
       "      <td>3.000000</td>\n",
       "      <td>NaN</td>\n",
       "      <td>3.7500</td>\n",
       "      <td>NaN</td>\n",
       "    </tr>\n",
       "    <tr>\n",
       "      <th>Fresco</th>\n",
       "      <td>NaN</td>\n",
       "      <td>NaN</td>\n",
       "      <td>NaN</td>\n",
       "      <td>3.125000</td>\n",
       "      <td>NaN</td>\n",
       "      <td>3.250000</td>\n",
       "      <td>3.60000</td>\n",
       "      <td>3.687500</td>\n",
       "      <td>3.375000</td>\n",
       "      <td>NaN</td>\n",
       "      <td>NaN</td>\n",
       "    </tr>\n",
       "    <tr>\n",
       "      <th>Guittard</th>\n",
       "      <td>3.166667</td>\n",
       "      <td>3.500000</td>\n",
       "      <td>3.166667</td>\n",
       "      <td>3.166667</td>\n",
       "      <td>3.00</td>\n",
       "      <td>3.083333</td>\n",
       "      <td>NaN</td>\n",
       "      <td>3.062500</td>\n",
       "      <td>NaN</td>\n",
       "      <td>3.7500</td>\n",
       "      <td>NaN</td>\n",
       "    </tr>\n",
       "    <tr>\n",
       "      <th>Pralus</th>\n",
       "      <td>3.406250</td>\n",
       "      <td>4.000000</td>\n",
       "      <td>2.875000</td>\n",
       "      <td>2.000000</td>\n",
       "      <td>3.50</td>\n",
       "      <td>3.250000</td>\n",
       "      <td>NaN</td>\n",
       "      <td>NaN</td>\n",
       "      <td>NaN</td>\n",
       "      <td>3.2500</td>\n",
       "      <td>NaN</td>\n",
       "    </tr>\n",
       "    <tr>\n",
       "      <th>Soma</th>\n",
       "      <td>NaN</td>\n",
       "      <td>NaN</td>\n",
       "      <td>NaN</td>\n",
       "      <td>3.416667</td>\n",
       "      <td>3.75</td>\n",
       "      <td>3.583333</td>\n",
       "      <td>3.65625</td>\n",
       "      <td>3.613636</td>\n",
       "      <td>3.500000</td>\n",
       "      <td>3.7500</td>\n",
       "      <td>3.607143</td>\n",
       "    </tr>\n",
       "    <tr>\n",
       "      <th>Valrhona</th>\n",
       "      <td>3.200000</td>\n",
       "      <td>2.964286</td>\n",
       "      <td>NaN</td>\n",
       "      <td>3.666667</td>\n",
       "      <td>NaN</td>\n",
       "      <td>3.625000</td>\n",
       "      <td>4.00000</td>\n",
       "      <td>3.500000</td>\n",
       "      <td>NaN</td>\n",
       "      <td>4.0000</td>\n",
       "      <td>NaN</td>\n",
       "    </tr>\n",
       "  </tbody>\n",
       "</table>\n",
       "</div>"
      ],
      "text/plain": [
       "review_year      2006      2007      2008      2009  2010      2011     2012  \\\n",
       "company                                                                        \n",
       "A. Morin          NaN       NaN       NaN       NaN   NaN       NaN  3.62500   \n",
       "Arete             NaN       NaN       NaN       NaN   NaN       NaN      NaN   \n",
       "Bonnat       3.464286  2.500000  4.000000  2.937500   NaN  3.625000      NaN   \n",
       "Domori       3.250000  3.656250  3.312500       NaN  3.00  3.500000  3.62500   \n",
       "Fresco            NaN       NaN       NaN  3.125000   NaN  3.250000  3.60000   \n",
       "Guittard     3.166667  3.500000  3.166667  3.166667  3.00  3.083333      NaN   \n",
       "Pralus       3.406250  4.000000  2.875000  2.000000  3.50  3.250000      NaN   \n",
       "Soma              NaN       NaN       NaN  3.416667  3.75  3.583333  3.65625   \n",
       "Valrhona     3.200000  2.964286       NaN  3.666667   NaN  3.625000  4.00000   \n",
       "\n",
       "review_year      2013      2014    2015      2016  \n",
       "company                                            \n",
       "A. Morin     3.318182  3.500000  3.1875  3.750000  \n",
       "Arete             NaN       NaN  3.5000  3.557692  \n",
       "Bonnat       3.375000  3.666667     NaN  3.500000  \n",
       "Domori       3.000000       NaN  3.7500       NaN  \n",
       "Fresco       3.687500  3.375000     NaN       NaN  \n",
       "Guittard     3.062500       NaN  3.7500       NaN  \n",
       "Pralus            NaN       NaN  3.2500       NaN  \n",
       "Soma         3.613636  3.500000  3.7500  3.607143  \n",
       "Valrhona     3.500000       NaN  4.0000       NaN  "
      ]
     },
     "execution_count": 12906,
     "metadata": {},
     "output_type": "execute_result"
    }
   ],
   "source": [
    "df_top_9 = df[df['company'].isin(top_9_companies)]\n",
    "# Составляем таблицу рейтинга крупных компаний по годам\n",
    "rating_by_year_and_company = df_top_9.groupby(['review_year', 'company'])['rating'].mean().unstack(level=0)\n",
    "rating_by_year_and_company"
   ]
  },
  {
   "cell_type": "code",
   "execution_count": null,
   "metadata": {},
   "outputs": [
    {
     "data": {
      "text/plain": [
       "Text(158.22222222222223, 0.5, 'Средний рейтинг')"
      ]
     },
     "execution_count": 12907,
     "metadata": {},
     "output_type": "execute_result"
    },
    {
     "data": {
      "image/png": "[encoded data removed]",
      "text/plain": [
       "<Figure size 1500x500 with 2 Axes>"
      ]
     },
     "metadata": {},
     "output_type": "display_data"
    }
   ],
   "source": [
    "# Строим тепловую карту\n",
    "fig, ax = plt.subplots(figsize=[15,5])\n",
    "sns.heatmap(rating_by_year_and_company, cmap='magma', linewidths=1)\n",
    "ax.set_title('Изменение среднего рейтинга по годам для топ-9 компаний')\n",
    "plt.xlabel('Год')\n",
    "plt.ylabel('Средний рейтинг')"
   ]
  },
  {
   "cell_type": "markdown",
   "metadata": {},
   "source": [
    "Средний рейтинг в различных компаниях ведет себя с годами по-разному. В общем, он демонстрирует рост, но можно выделить 3 группы, где:\n",
    "1. Рейтинг шоколада с годами растет (Fresco, Valrhona, Bonnat).   \n",
    "2. Рейтинг не меняется (Soma, A. Morin, Arete, Guittard).  \n",
    "3. Рейтинг нестабилен (Domori, Pralus).  \n",
    "\n",
    "**Вывод:**  \n",
    "Рост среднего рейтинга с годами связан с работой внутри компании (продвижение бренда, рецептура и т.п)."
   ]
  },
  {
   "cell_type": "markdown",
   "metadata": {},
   "source": [
    "#### 3.7-4 Изменение рейтинга по годам для популярных видов шоколада  \n",
    "Выясним, связан ли рост рейтинга с какими-то изменениями самих видов шоколада со временем. Например, может быть модифицирована технология производства, увеличен срок хранения и пр. В этом случае тепловая карта для видов шоколада будет демонстрировать рост среднего рейтинга с годами.   \n",
    "Учтем только 5 самых популярных видов шоколада."
   ]
  },
  {
   "cell_type": "code",
   "execution_count": null,
   "metadata": {},
   "outputs": [
    {
     "data": {
      "text/html": [
       "<div>\n",
       "<style scoped>\n",
       "    .dataframe tbody tr th:only-of-type {\n",
       "        vertical-align: middle;\n",
       "    }\n",
       "\n",
       "    .dataframe tbody tr th {\n",
       "        vertical-align: top;\n",
       "    }\n",
       "\n",
       "    .dataframe thead th {\n",
       "        text-align: right;\n",
       "    }\n",
       "</style>\n",
       "<table border=\"1\" class=\"dataframe\">\n",
       "  <thead>\n",
       "    <tr style=\"text-align: right;\">\n",
       "      <th>review_year</th>\n",
       "      <th>2006</th>\n",
       "      <th>2007</th>\n",
       "      <th>2008</th>\n",
       "      <th>2009</th>\n",
       "      <th>2010</th>\n",
       "      <th>2011</th>\n",
       "      <th>2012</th>\n",
       "      <th>2013</th>\n",
       "      <th>2014</th>\n",
       "      <th>2015</th>\n",
       "      <th>2016</th>\n",
       "      <th>2017</th>\n",
       "    </tr>\n",
       "    <tr>\n",
       "      <th>species</th>\n",
       "      <th></th>\n",
       "      <th></th>\n",
       "      <th></th>\n",
       "      <th></th>\n",
       "      <th></th>\n",
       "      <th></th>\n",
       "      <th></th>\n",
       "      <th></th>\n",
       "      <th></th>\n",
       "      <th></th>\n",
       "      <th></th>\n",
       "      <th></th>\n",
       "    </tr>\n",
       "  </thead>\n",
       "  <tbody>\n",
       "    <tr>\n",
       "      <th>Dominican Republic</th>\n",
       "      <td>NaN</td>\n",
       "      <td>3.500000</td>\n",
       "      <td>NaN</td>\n",
       "      <td>3.250</td>\n",
       "      <td>3.750000</td>\n",
       "      <td>3.333333</td>\n",
       "      <td>NaN</td>\n",
       "      <td>2.678571</td>\n",
       "      <td>3.250000</td>\n",
       "      <td>2.950000</td>\n",
       "      <td>2.937500</td>\n",
       "      <td>3.500</td>\n",
       "    </tr>\n",
       "    <tr>\n",
       "      <th>Ecuador</th>\n",
       "      <td>NaN</td>\n",
       "      <td>3.333333</td>\n",
       "      <td>3.0000</td>\n",
       "      <td>2.750</td>\n",
       "      <td>2.968750</td>\n",
       "      <td>3.625000</td>\n",
       "      <td>2.875000</td>\n",
       "      <td>3.250000</td>\n",
       "      <td>2.950000</td>\n",
       "      <td>3.178571</td>\n",
       "      <td>3.083333</td>\n",
       "      <td>3.375</td>\n",
       "    </tr>\n",
       "    <tr>\n",
       "      <th>Madagascar</th>\n",
       "      <td>4.0</td>\n",
       "      <td>3.500000</td>\n",
       "      <td>3.6875</td>\n",
       "      <td>3.225</td>\n",
       "      <td>3.250000</td>\n",
       "      <td>3.333333</td>\n",
       "      <td>3.000000</td>\n",
       "      <td>3.125000</td>\n",
       "      <td>3.295455</td>\n",
       "      <td>3.107143</td>\n",
       "      <td>3.250000</td>\n",
       "      <td>3.500</td>\n",
       "    </tr>\n",
       "    <tr>\n",
       "      <th>Peru</th>\n",
       "      <td>NaN</td>\n",
       "      <td>3.000000</td>\n",
       "      <td>NaN</td>\n",
       "      <td>3.000</td>\n",
       "      <td>2.500000</td>\n",
       "      <td>2.625000</td>\n",
       "      <td>2.888889</td>\n",
       "      <td>3.000000</td>\n",
       "      <td>2.821429</td>\n",
       "      <td>3.150000</td>\n",
       "      <td>2.875000</td>\n",
       "      <td>2.750</td>\n",
       "    </tr>\n",
       "    <tr>\n",
       "      <th>Venezuela</th>\n",
       "      <td>NaN</td>\n",
       "      <td>2.875000</td>\n",
       "      <td>3.7500</td>\n",
       "      <td>NaN</td>\n",
       "      <td>2.916667</td>\n",
       "      <td>3.250000</td>\n",
       "      <td>2.916667</td>\n",
       "      <td>2.750000</td>\n",
       "      <td>2.750000</td>\n",
       "      <td>3.250000</td>\n",
       "      <td>2.875000</td>\n",
       "      <td>3.500</td>\n",
       "    </tr>\n",
       "  </tbody>\n",
       "</table>\n",
       "</div>"
      ],
      "text/plain": [
       "review_year         2006      2007    2008   2009      2010      2011  \\\n",
       "species                                                                 \n",
       "Dominican Republic   NaN  3.500000     NaN  3.250  3.750000  3.333333   \n",
       "Ecuador              NaN  3.333333  3.0000  2.750  2.968750  3.625000   \n",
       "Madagascar           4.0  3.500000  3.6875  3.225  3.250000  3.333333   \n",
       "Peru                 NaN  3.000000     NaN  3.000  2.500000  2.625000   \n",
       "Venezuela            NaN  2.875000  3.7500    NaN  2.916667  3.250000   \n",
       "\n",
       "review_year             2012      2013      2014      2015      2016   2017  \n",
       "species                                                                      \n",
       "Dominican Republic       NaN  2.678571  3.250000  2.950000  2.937500  3.500  \n",
       "Ecuador             2.875000  3.250000  2.950000  3.178571  3.083333  3.375  \n",
       "Madagascar          3.000000  3.125000  3.295455  3.107143  3.250000  3.500  \n",
       "Peru                2.888889  3.000000  2.821429  3.150000  2.875000  2.750  \n",
       "Venezuela           2.916667  2.750000  2.750000  3.250000  2.875000  3.500  "
      ]
     },
     "execution_count": 12908,
     "metadata": {},
     "output_type": "execute_result"
    }
   ],
   "source": [
    "# Группируем по году и виду шоколада, считаем средний рейтинг\n",
    "rating_by_year_and_species = df_pop_species.groupby(['review_year', 'species'])['rating'].mean().unstack(level=0)\n",
    "# Составляем таблицу рейтинга популярных видов шоколада по годам\n",
    "rating_by_year_and_species.head()"
   ]
  },
  {
   "cell_type": "code",
   "execution_count": null,
   "metadata": {},
   "outputs": [
    {
     "data": {
      "text/plain": [
       "Text(133.22222222222223, 0.5, 'Средний рейтинг')"
      ]
     },
     "execution_count": 12909,
     "metadata": {},
     "output_type": "execute_result"
    },
    {
     "data": {
      "image/png": "[encoded data removed]",
      "text/plain": [
       "<Figure size 1300x300 with 2 Axes>"
      ]
     },
     "metadata": {},
     "output_type": "display_data"
    }
   ],
   "source": [
    "# Строим тепловую карту\n",
    "fig, ax = plt.subplots(figsize=[13,3])\n",
    "sns.heatmap(rating_by_year_and_species, cmap='magma', linewidths=1)\n",
    "plt.title('Изменение среднего рейтинга по годам для самых популярных видов шоколада')\n",
    "plt.xlabel('Год')\n",
    "plt.ylabel('Средний рейтинг')"
   ]
  },
  {
   "cell_type": "markdown",
   "metadata": {},
   "source": [
    "Из тепловой карты видно следующее:  \n",
    "* Рейтинг всех популярных видов шоколада (кроме Peru) вырос в 2017 году.    \n",
    "* С 2012 по 2016 годы все популярные виды шоколада показали плохой рейтинг.  \n",
    "* Peru в среднем имеет самый низкий рейтинг.  \n",
    "* Для шоколада вида Madagascar с 2006 по 2012 наблюдается падение рейтинга.  \n",
    "   \n",
    "**Вывод:**  \n",
    "Рост среднего рейтинга с годами не связан с изменением видов шоколада. "
   ]
  },
  {
   "cell_type": "markdown",
   "metadata": {},
   "source": [
    "#### 3.7-5  Изменение среднего процента содержания какао по годам       \n",
    "Проанализируем, связано ли падение рейтинга в 2008 году с снижением процента какао в рецептах батончиков. Несмотря на то что корреляция между рейтингом и процентом какао отрицательная, большие изменения в составе могли повлечь за собой снижение рейтинга."
   ]
  },
  {
   "cell_type": "code",
   "execution_count": null,
   "metadata": {},
   "outputs": [
    {
     "data": {
      "image/png": "[encoded data removed]",
      "text/plain": [
       "<Figure size 1000x600 with 1 Axes>"
      ]
     },
     "metadata": {},
     "output_type": "display_data"
    }
   ],
   "source": [
    "# Группируем по году и считаем средний процент какао\n",
    "yearly_cocoa = df.groupby(\"review_year\")['cocoa_percentage'].mean()\n",
    "\n",
    "# Строим график\n",
    "plt.figure(figsize=(10, 6))\n",
    "sns.lineplot(x=yearly_cocoa.index, y=yearly_cocoa.values, marker='o', color=\"#9B0084\")\n",
    "plt.title('Изменение среднего процента содержания какао по годам')\n",
    "plt.xlabel('Год')\n",
    "plt.ylabel('Средний процент какао')\n",
    "plt.grid(True)\n",
    "plt.show()\n"
   ]
  },
  {
   "cell_type": "markdown",
   "metadata": {},
   "source": [
    "С 2008 г. наблюдается падение процентного содержания какао батончиках.  \n",
    "  \n",
    "**Вывод:**  \n",
    "Падение рейтинга батончиков в 2008 году связано с постепенным снижением процентного содержания какао в батончиках. Рост цен на какао и мировой финансовый кризис  - наиболее вероятные причины."
   ]
  },
  {
   "cell_type": "markdown",
   "metadata": {},
   "source": [
    "#### 3.7-6 Тенденции изменения рейтинга батончиков по годам\n",
    "Ранее мы определили, что с годами средний рейтинг шоколадных батончиков растет. Еще одной причиной такого явления может быть сокращение количества батончиков с низким рейтингом или рост количества батончиков с высоким. Проверим, так ли это.  \n",
    "Для начала построим точечный график, который покажет разброс значений рейтинга по годам:"
   ]
  },
  {
   "cell_type": "code",
   "execution_count": null,
   "metadata": {},
   "outputs": [
    {
     "data": {
      "image/png": "[encoded data removed]",
      "text/plain": [
       "<Figure size 1000x600 with 1 Axes>"
      ]
     },
     "metadata": {},
     "output_type": "display_data"
    }
   ],
   "source": [
    "# Строим точечный график\n",
    "plt.figure(figsize=(10, 6))\n",
    "sns.scatterplot(x=df['review_year'], y=df['rating'], alpha=0.5, color=\"#6D0091\")\n",
    "# Добавляем линию тренда\n",
    "sns.regplot(x=df['review_year'], y=df['rating'], scatter=False, color=\"#D30057\", line_kws={\"linewidth\": 2}, ci=None)\n",
    "# Оформляем график\n",
    "plt.xlabel(\"Год публикации обзора\")\n",
    "plt.ylabel(\"Рейтинг шоколада\")\n",
    "plt.title(\"Зависимость рейтинга шоколада от года публикации\")\n",
    "plt.grid(True, linestyle='--', alpha=0.6)\n",
    "plt.show()"
   ]
  },
  {
   "cell_type": "markdown",
   "metadata": {},
   "source": [
    "Низкорейтинговых шоколадок с годами становится меньше.  \n",
    "Убедимся в этом, построив ящики с усами для рейтингов в каждом году:"
   ]
  },
  {
   "cell_type": "code",
   "execution_count": null,
   "metadata": {},
   "outputs": [
    {
     "data": {
      "image/png": "[encoded data removed]",
      "text/plain": [
       "<Figure size 1500x600 with 1 Axes>"
      ]
     },
     "metadata": {},
     "output_type": "display_data"
    }
   ],
   "source": [
    "# Цветовая палитра\n",
    "magma_palette = [\n",
    "    \"#F7F100\", \"#F29C11\", \"#F07F23\", \"#EC5537\", \"#F0244E\", \n",
    "    \"#D30057\", \"#9B0084\", \"#6D0091\", \"#A9445C\", \"#E67059\",\n",
    "    \"#F7A500\", \"#FFB75D\"\n",
    "]\n",
    "# Строим ящики с усами\n",
    "plt.figure(figsize=(15,6))\n",
    "sns.boxplot(data=df, x=\"review_year\", y=\"rating\", palette=magma_palette, fliersize=8, linewidth=1.4, width=0.7, hue=\"review_year\", legend=False)\n",
    "plt.xlabel('Год публикации обзора')\n",
    "plt.ylabel('Рейтинг шоколада')\n",
    "plt.title('Распределение рейтингов шоколада по годам')\n",
    "plt.grid(True, linestyle='--', alpha=0.6)\n",
    "# Подписываем медианы\n",
    "medians = df.groupby(\"review_year\")[\"rating\"].median()\n",
    "for i, median in enumerate(medians):\n",
    "    plt.text(i, median, f'{median:.2f}', ha='center', va='bottom', fontsize=10, color='black')\n",
    "plt.show()"
   ]
  },
  {
   "cell_type": "markdown",
   "metadata": {},
   "source": [
    "Действительно, с годами становится все меньше батончиков с низким рейтингом, медианный рейтинг увеличивается. Верхняя граница рейтинга практически не меняется.  \n",
    "\n",
    "**Вывод:**  \n",
    "С годами количество шоколадных батончиков с низким рейтингом сокращается.  \n",
    "<br>"
   ]
  },
  {
   "cell_type": "markdown",
   "metadata": {},
   "source": [
    "### 3.8 Построение модели линейной регрессии <a id=\"model\"></a>"
   ]
  },
  {
   "cell_type": "markdown",
   "metadata": {},
   "source": [
    "Проанализируем, какие факторы и в какой степени влияют на рейтинг шоколадных батончиков. Будем использовать только те, чье влияние подтвердилось: год обзора, вид шоколада, и процентное содержание какао. Для того, чтобы исключить сильную корреляцию между факторами, построим матрицу."
   ]
  },
  {
   "cell_type": "code",
   "execution_count": null,
   "metadata": {},
   "outputs": [
    {
     "data": {
      "image/png": "[encoded data removed]",
      "text/plain": [
       "<Figure size 1500x1300 with 64 Axes>"
      ]
     },
     "metadata": {},
     "output_type": "display_data"
    }
   ],
   "source": [
    "# Фильтруем данные\n",
    "df_filtered = df_pop_species.drop(columns = ['REF', \"company_location\", \"bean_type\", 'country', \"continent\", \"company_cat\", 'company'])\n",
    "# Преобразуем категориальные переменные в One-Hot Encoding (бинарные переменные из 0 и 1)\n",
    "df_encoded = pd.get_dummies(df_filtered, columns=['species'], drop_first=False)\n",
    "df_encoded = df_encoded.astype(int)\n",
    "\n",
    "# Строим матрицу\n",
    "axes = pd.plotting.scatter_matrix(df_encoded, figsize=(15,13), diagonal='hist', grid=True, alpha=0, hist_kwds={'color': \"#F29C11\", 'edgecolor': 'black', 'linewidth': 1.5})\n",
    "# Вычисляем коэффициенты корреляции\n",
    "corr = df_encoded.corr().values\n",
    "\n",
    "# Подписываем коэффициенты корреляции на графиках\n",
    "for i, j in zip(*np.triu_indices_from(axes, k=1)):  \n",
    "    axes[i, j].annotate(\"%.3f\" % corr[i,j], (0.8, 0.8), xycoords='axes fraction', ha='center', va='center')\n",
    "# Убираем species_ из подписи\n",
    "for ax in axes.flatten():\n",
    "    xlabel = ax.get_xlabel().replace('species_', '')  \n",
    "    ylabel = ax.get_ylabel().replace('species_', '') \n",
    "    ax.set_xlabel(xlabel, ha='center', fontsize=12)\n",
    "    ax.set_ylabel(ylabel, va='center', fontsize=12)\n",
    "\n",
    "plt.show()"
   ]
  },
  {
   "cell_type": "markdown",
   "metadata": {},
   "source": [
    "Мультиколлинеарность отсутствует. "
   ]
  },
  {
   "cell_type": "code",
   "execution_count": null,
   "metadata": {},
   "outputs": [],
   "source": [
    "# Удадяем species_Dominican Republic из df_encoded, чтобы при построении регрессионной модели не было линейной зависимости. \n",
    "# Убранный вид шоколада будет учитываться в свободном члене (b0) модели.\n",
    "df_encoded = df_encoded.drop(columns=['species_Dominican Republic'])"
   ]
  },
  {
   "cell_type": "markdown",
   "metadata": {},
   "source": [
    "Чтобы понять, в какой степени год публикации обзора, процент какао и тип шоколада влияют на рейтинг, построим модель. "
   ]
  },
  {
   "cell_type": "code",
   "execution_count": null,
   "metadata": {},
   "outputs": [
    {
     "name": "stdout",
     "output_type": "stream",
     "text": [
      "Свободный член (intercept): 19.418222256414687\n",
      "Коэффициенты:\n",
      "review_year: -0.0083\n",
      "cocoa_percentage: -0.6488\n",
      "species_Ecuador: -0.0095\n",
      "species_Madagascar: 0.1664\n",
      "species_Peru: -0.2183\n",
      "species_Venezuela: -0.1839\n"
     ]
    }
   ],
   "source": [
    "# Выделяем X и y \n",
    "# X — независимые переменные (содержание какао, год, преобразованные в нули и единицы 5 самых популярных видов шоколада)\n",
    "# y — зависимая переменная (рейтинг)\n",
    "y = df_encoded['rating']\n",
    "X = df_encoded.drop(columns=['rating'])  \n",
    "\n",
    "# Создаем и обучаем модель\n",
    "model = LinearRegression()\n",
    "model.fit(X, y)\n",
    "\n",
    "# Выводим коэффициенты\n",
    "coefficients = dict(zip(X.columns, model.coef_))\n",
    "intercept = model.intercept_\n",
    "\n",
    "print(\"Свободный член (intercept):\", intercept)\n",
    "print(\"Коэффициенты:\")\n",
    "for feature, coef in coefficients.items():\n",
    "    print(f\"{feature}: {coef.round(4)}\")"
   ]
  },
  {
   "cell_type": "markdown",
   "metadata": {},
   "source": [
    "коэффициент для species_Dominican Republic — 0.  \n",
    "Полученные коэффициенты показывают нам направление и степень влияния каждого из факторов.  \n",
    "Чтобы понять, насколько удачна наша модель, а также какая доля изменений в рейтинге объясняется изменениями в факторах, найдем коэффициент детерминации:"
   ]
  },
  {
   "cell_type": "code",
   "execution_count": null,
   "metadata": {},
   "outputs": [
    {
     "name": "stdout",
     "output_type": "stream",
     "text": [
      "Коэффициент детерминации R²: 0.09299849710064967\n"
     ]
    }
   ],
   "source": [
    "r2 = model.score(X, y)\n",
    "print(\"Коэффициент детерминации R²:\", r2)"
   ]
  },
  {
   "cell_type": "markdown",
   "metadata": {},
   "source": [
    "R² составляет 9%, что является очень маленьким значением. Это значит, что только 9% от рейтинга объясняется учтенными нами факторами, а 91% объясняется другими.   \n",
    "Модель плохо описывает зависимость. На рейтинг оказывают больше влияния другие факторы, данных по которым у нас нет. Также возможно, что в данных есть шум, снижающий эффективность модели.   \n",
    "Однако, из коэффициентов мы можем сделать вывод, что больше всего на рейтинг влияет процент содержания какао, причем чем он больше, тем рейтинг меньше.  \n",
    "Неоднозначное влияние оказывает вид шоколада: при использовании шоколада Madagascar рейтинг растет, а в остальных случаях падает.  \n",
    "Год публикации на рейтинг влияния практически не оказывает.\n",
    "\n",
    "**Вывод:**  \n",
    "На рейтинг батончиков в первую очередь влияет процент содержания какао. Разные виды шоколада оказывают разное влияние, в то время как год публикации обзора не имеет значительного эффекта."
   ]
  },
  {
   "cell_type": "markdown",
   "metadata": {},
   "source": [
    "## 4. Выводы <a id=\"conclusion\"></a>  \n",
    "1.  На рейтинг шоколадных батончиков влияют:   \n",
    "* **Компания**. Рейтинги варьируются в зависимости от производителя.  ​  \n",
    "* **Вид шоколада**. Например, мадагаскарский шоколад способствует повышению рейтинга, тогда как шоколад из Перу — снижению.​  \n",
    "* **Год публикации обзора**. Влияет на рейтинг незначительно, однако наблюдается общая тенденция к росту рейтингов с течением времени, что связано с улучшением качества продукции и сокращением числа низкорейтинговых батончиков.​  \n",
    "* **Процент содержания какао**. Наиболее значимый фактор. В целом, с увеличением содержания какао рейтинг батончиков снижается, особенно при приближении к 100%. Однако батончики со средним содержанием какао получают более стабильные оценки. Примечательно, что в 2008–2009 годах сокращение содержания какао также сопровождалось снижением рейтинга, что указывает на важность баланса. Оптимальным для высокого рейтинга является среднее содержание какао.​  \n",
    "\n",
    "2. Около 9% изменений в рейтингах объясняются указанными факторами. Оставшиеся 91% зависят от других причин.  \n",
    "\n",
    "3. Рекомендации для повышения рейтинга батончиков:  \n",
    "* Поддерживать средний процент содержания какао.​  \n",
    "* Использовать мадагаскарский вид шоколада.​  \n",
    "* Уделять внимание укреплению бренда компании.  "
   ]
  }
 ],
 "metadata": {
  "kernelspec": {
   "display_name": "Python 3",
   "language": "python",
   "name": "python3"
  },
  "language_info": {
   "codemirror_mode": {
    "name": "ipython",
    "version": 3
   },
   "file_extension": ".py",
   "mimetype": "text/x-python",
   "name": "python",
   "nbconvert_exporter": "python",
   "pygments_lexer": "ipython3",
   "version": "3.13.0"
  }
 },
 "nbformat": 4,
 "nbformat_minor": 2
}
